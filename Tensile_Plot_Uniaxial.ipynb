{
 "cells": [
  {
   "cell_type": "code",
   "execution_count": 142,
   "metadata": {
    "collapsed": false
   },
   "outputs": [],
   "source": [
    "# Getting the input data\n",
    "import os\n",
    "import pandas as pd\n",
    "import numpy as np\n",
    "import matplotlib.pyplot as plt \n",
    "from scipy import stats \n",
    "import shutil\n"
   ]
  },
  {
   "cell_type": "code",
   "execution_count": 143,
   "metadata": {
    "collapsed": false
   },
   "outputs": [
    {
     "name": "stdout",
     "output_type": "stream",
     "text": [
      "        Force      Disp      Time\n",
      "0  118.696777  0.003383  0.868164\n",
      "1  255.132233  0.008751  1.068359\n",
      "2  343.885101  0.013570  1.268555\n",
      "3  423.984711  0.018270  1.468750\n",
      "4  488.151794  0.023793  1.668945\n"
     ]
    }
   ],
   "source": [
    "# Specify the path where output.csv and ey_strain.csv is stored\n",
    "# output.csv is csv file from loadframe which has data in the order Force, Displacement and Time\n",
    "# ey_strain.csv is csv file from DIC software- ARAMIS or VIC which has data in the order Stage ( i.e time ) \n",
    "# and strain data\n",
    "\n",
    "os.chdir('F:\\P6')\n",
    "\n",
    "# Reading all the data in csv format to the data frame\n",
    "\n",
    "output = pd.read_csv(\"output.csv\",skiprows = 2,names = ['Force','Disp','Time'])\n",
    "output = output.apply(pd.to_numeric, errors ='coerce')\n",
    "output = output.dropna(axis = 0)\n",
    "\n",
    "eystrain = pd.read_csv(\"ey_strain.csv\",skiprows = 3,names =['Stage','ey_strain'])\n",
    "eystrain = eystrain.apply(pd.to_numeric, errors='coerce')\n",
    "eystrain = eystrain.dropna(axis = 0)\n",
    "\n",
    "\n",
    "print(output.head(5))\n",
    "\n"
   ]
  },
  {
   "cell_type": "code",
   "execution_count": 144,
   "metadata": {
    "collapsed": false
   },
   "outputs": [
    {
     "name": "stdout",
     "output_type": "stream",
     "text": [
      "22.107\n"
     ]
    }
   ],
   "source": [
    "#Calculating Stress from the output data \n",
    "\n",
    "# Area of cross-section of tensile sample\n",
    "\n",
    "Area = 22.107\n",
    "\n",
    "# Changing strain from percentage to mm/mm format\n",
    "eystrain[\"ey_strain\"] = eystrain[\"ey_strain\"]\n",
    "\n",
    "\n",
    "# Calculating Stress from force \n",
    "output[\"stress\"] = output[\"Force\"]/Area\n",
    "\n",
    "print(Area)\n",
    "\n",
    "# Assembling all the data to a data frame\n",
    "data = pd.concat([output['Time'], output['stress'], eystrain['Stage'], eystrain['ey_strain']],axis = 1, keys= ['time','stress','stage','strain'])\n",
    "\n",
    "\n"
   ]
  },
  {
   "cell_type": "code",
   "execution_count": 145,
   "metadata": {
    "collapsed": false
   },
   "outputs": [
    {
     "name": "stdout",
     "output_type": "stream",
     "text": [
      "132\n",
      "132\n"
     ]
    }
   ],
   "source": [
    "#Filtering stress\n",
    "\n",
    "#Filtering out the Stress data corresponding to each Strain Stage\n",
    "\n",
    "Stress = []\n",
    "time = np.array(data['time'].dropna())\n",
    "stage = np.array(data['stage'].dropna())\n",
    "time_sorted = []\n",
    "\n",
    "# Finding closest time value of stress corresponding to each strain stage data\n",
    "for i in range(0, len(stage)):\n",
    "    time_sorted.append(min(range(len(time)), key=lambda j: abs(time[j]-stage[i])))\n",
    "\n",
    "for i in range (0, len(time_sorted)):\n",
    "        Stress.append(data['stress'][time_sorted[i]]) \n",
    "\n",
    "Strain = np.array(data[\"strain\"].dropna())\n",
    "Stress = np.array(Stress)\n",
    "\n",
    "\n",
    "print(len(Strain))\n",
    "print(len(Stress))\n",
    "\n",
    "Data = pd.DataFrame({'Strain':Strain,'Stress':Stress},columns = ['Strain','Stress'])\n"
   ]
  },
  {
   "cell_type": "markdown",
   "metadata": {},
   "source": [
    "# Finding Split point "
   ]
  },
  {
   "cell_type": "code",
   "execution_count": 146,
   "metadata": {
    "collapsed": false
   },
   "outputs": [
    {
     "name": "stdout",
     "output_type": "stream",
     "text": [
      "done\n"
     ]
    }
   ],
   "source": [
    "def Split_Stress(stress, strain):\n",
    "    \n",
    "    # Split_point is strain at whaich standard deviation(ymodulus)/mean(ymodulus) > 10 %\n",
    "    \n",
    "    ymodulus = []\n",
    "    \n",
    "    window = 30\n",
    "    \n",
    "    for i in range(0,len(stress)-window):\n",
    "        ymodulus.append((stress[i+window] - stress[i])/(strain[i+window] - strain[i]))\n",
    "        m = np.mean(ymodulus)\n",
    "        s = np.std(ymodulus)\n",
    "        p = (s/m)*100\n",
    "        if np.floor(p) > 15:\n",
    "            global Split_Point\n",
    "            Split_Point = strain[i]  \n",
    "            break\n",
    "\n",
    "    #Calculating Young's Modulus from raw data ey_strain\n",
    "\n",
    "    #Filtering out the linear potion of the ey_strain and stress data to find the slope\n",
    "\n",
    "    linear_strain = []\n",
    "    linear_stress = []\n",
    "    strain_deviation = []\n",
    "\n",
    "    for i in range(0, len(strain)):\n",
    "        if strain[i] < Split_Point:\n",
    "            linear_strain.append(strain[i])\n",
    "            linear_stress.append(stress[i])\n",
    "    \n",
    "    linear_strain = np.array(linear_strain)\n",
    "    linear_stress = np.array(linear_stress)\n",
    "\n",
    "    linear_strain = linear_strain[:,np.newaxis]\n",
    "           \n",
    "    E_trial,r,_,_ = np.linalg.lstsq(linear_strain,linear_stress)    # Finding Young's Modulus by forcing to zero intercept\n",
    "    \n",
    "    # Calculating mean strain deviation for the linear_stress, linear_strain data\n",
    "    \n",
    "    for i in range(0,len(linear_strain)):\n",
    "        strain_deviation.append((linear_strain[i] - linear_stress[i]/E_trial))\n",
    "        \n",
    "    mean_strain_deviation = np.mean(strain_deviation)\n",
    "    \n",
    "    # Filtering out the stress, strain data with strain deviation within bounds \n",
    "    # of mean strain deviation +/- Extensometer least count\n",
    "            \n",
    "    filtered_stress =[]\n",
    "    \n",
    "    for i in range(0,len(strain)):\n",
    "            if mean_strain_deviation-0.0005 < (strain[i]- (stress[i]/E_trial)) < mean_strain_deviation + 0.0005 :\n",
    "                filtered_stress.append(stress[i])\n",
    "    break_stress = np.max(filtered_stress)\n",
    "    return(break_stress)\n",
    "print('done')"
   ]
  },
  {
   "cell_type": "markdown",
   "metadata": {},
   "source": [
    "# Finding Mechanical Properties "
   ]
  },
  {
   "cell_type": "code",
   "execution_count": 147,
   "metadata": {
    "collapsed": false
   },
   "outputs": [
    {
     "name": "stdout",
     "output_type": "stream",
     "text": [
      "done\n"
     ]
    }
   ],
   "source": [
    "# Function to calculate Mechanical Properties\n",
    "\n",
    "def Mechanical_Properties(stress, strain, split_stress):\n",
    "\n",
    "    #Calculating Young's Modulus from raw data ey_strain\n",
    "\n",
    "    #Filtering out the linear potion of the ey_strain and stress data to find the slope\n",
    "\n",
    "    linear_strain = []\n",
    "    linear_stress = []\n",
    "\n",
    "    for i in range(0, len(stress)):\n",
    "        if stress[i] < split_stress:\n",
    "            linear_strain.append(strain[i])\n",
    "            linear_stress.append(stress[i])\n",
    "\n",
    "    # Filtering out the linear potion of the ey_strain and stress data to fit a polynomial\n",
    "\n",
    "    nonlinear_strain =[]\n",
    "    nonlinear_stress =[]\n",
    "\n",
    "    for i in range(0,len(stress)):\n",
    "        if stress[i] > split_stress:\n",
    "            nonlinear_strain.append(strain[i])\n",
    "            nonlinear_stress.append(stress[i])\n",
    "            \n",
    "    linear_strain = np.array(linear_strain)\n",
    "    linear_stress = np.array(linear_stress)\n",
    "\n",
    "#     linear_strain = linear_strain[:,np.newaxis]\n",
    "\n",
    "#     E,r,_,_ = np.linalg.lstsq(linear_strain,linear_stress)\n",
    "    E,c,r,_,_ = stats.linregress(linear_strain,linear_stress)\n",
    "    \n",
    "\n",
    "    #Calculating R^2 value\n",
    "    K = len(linear_stress)\n",
    "    r_squared =  1 - r /(K * linear_stress.var())\n",
    "    r_squared = round(r_squared,5)\n",
    "\n",
    "    #Calculating coefficient of variation\n",
    "    V = 100*np.sqrt(((1/r_squared)-1)/(K-2))\n",
    "\n",
    "    \n",
    "    \n",
    "    #Fitting a polynomial curve to the nonlinear portion of stress-strain curve\n",
    "    p = np.polyfit(nonlinear_strain,nonlinear_stress,8)\n",
    "    p1d = np.poly1d(p)\n",
    "    \n",
    "    \n",
    "    #Finding Ultimate Stress and Strain\n",
    "    ucs = np.amax(stress)\n",
    "    ucstrain = np.amax(strain)\n",
    "\n",
    "    # To find yield stress from initially filtered data of Engineering strain vs Engineering stress\n",
    "    # This works by finding intersection point of the straight line and polynomial\n",
    "\n",
    "    x = np.linspace(0.002,0.05,100000)\n",
    "\n",
    "    for i in range(0,len(x)):\n",
    "        if (E*(x[i] -0.002)) > (p1d(x[i])):\n",
    "            yieldstrain = x[i]\n",
    "            yieldstress = p1d(x[i])\n",
    "            break \n",
    "\n",
    "\n",
    "    #Caculating ductility from filtered data ey_strain\n",
    "        \n",
    "    ductility = (ucstrain - yieldstrain)*100\n",
    "    ductility = round(ductility,2)\n",
    "    return(round(yieldstress,2),round(ucs,2),int(E),round(ductility,2),round(r_squared,5),K,round(V,5))\n",
    "    \n",
    "print(\"done\")\n"
   ]
  },
  {
   "cell_type": "code",
   "execution_count": 148,
   "metadata": {
    "collapsed": false
   },
   "outputs": [
    {
     "name": "stdout",
     "output_type": "stream",
     "text": [
      "300\n",
      "  Result Type  Yield Strength(Mpa)  Ultimate Strength(Mpa)  \\\n",
      "0    Uniaxial               424.68                  680.08   \n",
      "\n",
      "   Youngs Modulus(Gpa)  Ductility      R^2  Data Points  CoV(%)  \n",
      "0                   80      11.61  0.99999           10  0.1118  \n"
     ]
    }
   ],
   "source": [
    "#Mechanical properties in different processing conditions\n",
    "\n",
    "split_stress = 300  # Passing uniaxial strain, uniaxial stress\n",
    "print(split_stress)\n",
    "\n",
    "[y,ucs,E,d,R2,K,V] = Mechanical_Properties(Stress,Strain,split_stress)\n",
    "\n",
    "\n",
    "dir = 'Results'\n",
    "if not os.path.exists(dir):\n",
    "    os.makedirs(dir)\n",
    "else:\n",
    "    shutil.rmtree(dir)           #removes all the subdirectories!\n",
    "    os.makedirs(dir)\n",
    "\n",
    "os.chdir('Results')\n",
    "\n",
    "\n",
    "\n",
    "Data = pd.DataFrame({'Strain':Strain,'Stress':Stress},columns = ['Strain','Stress'])\n",
    "\n",
    "Results = pd.DataFrame({'Result Type':['Uniaxial'],'Yield Strength(Mpa)':[y],'Ultimate Strength(Mpa)':[ucs],\n",
    "                        'Youngs Modulus(Gpa)':[E/1000],'Ductility':[d],'R^2':[R2],'Data Points':[K],'CoV(%)':[V]},\n",
    "                        columns = ['Result Type','Yield Strength(Mpa)','Ultimate Strength(Mpa)','Youngs Modulus(Gpa)',\n",
    "                                   'Ductility','R^2','Data Points','CoV(%)'])\n",
    "\n",
    "Results.to_csv('Results.csv')\n",
    "Data.to_csv('Data.csv')\n",
    "\n",
    "print(Results)\n"
   ]
  },
  {
   "cell_type": "code",
   "execution_count": 149,
   "metadata": {
    "collapsed": false
   },
   "outputs": [],
   "source": [
    "# Plotting \n",
    "\n",
    "# To draw straight line in graph\n",
    "\n",
    "b = np.linspace(0,0.01,1000)\n",
    "g = np.linspace(0.002,0.015,2000)\n",
    "\n",
    "a = E*b\n",
    "c = E*(g - 0.002)\n",
    "\n",
    "\n",
    "#plt.clf()\n",
    "\n",
    "plt.figure(figsize = (20,15))\n",
    "plt.rc('xtick', labelsize=20) \n",
    "plt.rc('ytick', labelsize=20)\n",
    "plt.plot(Strain, Stress, 'k.')\n",
    "plt.plot(b,a,'-')\n",
    "plt.plot(g,c,'-')\n",
    "plt.xlabel('Engineering Strain (mm/mm)', fontsize = 20)\n",
    "plt.ylabel('Engineering Stress (Mpa)', fontsize = 20)\n",
    "plt.xlim([0,Strain.max()+0.1])\n",
    "plt.ylim([0,Stress.max()+200])\n",
    "plt.savefig('Eng_Strain_Stress.tiff')\n",
    "\n",
    "\n",
    "plt.show()\n"
   ]
  },
  {
   "cell_type": "code",
   "execution_count": null,
   "metadata": {
    "collapsed": true
   },
   "outputs": [],
   "source": []
  }
 ],
 "metadata": {
  "kernelspec": {
   "display_name": "Python 2",
   "language": "python",
   "name": "python2"
  },
  "language_info": {
   "codemirror_mode": {
    "name": "ipython",
    "version": 2
   },
   "file_extension": ".py",
   "mimetype": "text/x-python",
   "name": "python",
   "nbconvert_exporter": "python",
   "pygments_lexer": "ipython2",
   "version": "2.7.13"
  }
 },
 "nbformat": 4,
 "nbformat_minor": 0
}
