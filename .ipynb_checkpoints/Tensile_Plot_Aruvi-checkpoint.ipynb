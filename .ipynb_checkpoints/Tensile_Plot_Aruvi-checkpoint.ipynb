{
 "cells": [
  {
   "cell_type": "code",
   "execution_count": 380,
   "metadata": {
    "collapsed": false
   },
   "outputs": [],
   "source": [
    "# Getting the input data\n",
    "import os\n",
    "import pandas as pd\n",
    "import numpy as np\n",
    "import matplotlib.pyplot as plt \n",
    "from scipy import stats \n",
    "import shutil\n"
   ]
  },
  {
   "cell_type": "code",
   "execution_count": 381,
   "metadata": {
    "collapsed": false
   },
   "outputs": [
    {
     "name": "stdout",
     "output_type": "stream",
     "text": [
      "Input_length:\n",
      "       Time      Force      Disp\n",
      "0  0.279297   2.493709 -0.000063\n",
      "1  0.378906   3.272854 -0.000298\n",
      "2  0.478516   5.440507 -0.000072\n",
      "3  0.578125   8.343253  0.000101\n",
      "4  0.677734  10.905043  0.000599\n",
      "   Width  Thickness\n",
      "0   5.91       1.91\n"
     ]
    }
   ],
   "source": [
    "os.chdir('Z:\\Tensile\\Raw_Data\\P014\\A10')\n",
    "\n",
    "# Reading all the data in csv format to the data frame\n",
    "\n",
    "output = pd.read_csv(\"output.csv\",skiprows = 2,names = ['Time','Force','Disp'])\n",
    "output = output.apply(pd.to_numeric, errors ='coerce')\n",
    "output = output.dropna(axis = 0)\n",
    "\n",
    "eystrain = pd.read_csv(\"ey_strain.csv\",skiprows = 3,names =['Stage','ey_strain'])\n",
    "eystrain = eystrain.apply(pd.to_numeric, errors='coerce')\n",
    "eystrain = eystrain.dropna(axis = 0)\n",
    "\n",
    "mises = pd.read_csv(\"mises.csv\",skiprows = 3, names =['Stage','mises_strain'])\n",
    "mises = mises.apply(pd.to_numeric, errors='coerce')\n",
    "mises = mises.dropna(axis = 0)\n",
    "\n",
    "Dimensions = pd.read_table(\"Dimensions.txt\")\n",
    "\n",
    "print('Input_length:')\n",
    "print(output.head(5))\n",
    "print(Dimensions)\n"
   ]
  },
  {
   "cell_type": "code",
   "execution_count": 382,
   "metadata": {
    "collapsed": false
   },
   "outputs": [
    {
     "name": "stdout",
     "output_type": "stream",
     "text": [
      "11.2881\n",
      "       time    stress  stage    strain     mises\n",
      "0  0.279297  0.220915    0.0  0.000000  0.000000\n",
      "1  0.378906  0.289938    1.0 -0.000012  0.000253\n",
      "2  0.478516  0.481968    2.0  0.000318  0.000432\n",
      "3  0.578125  0.739119    3.0  0.000527  0.000641\n",
      "4  0.677734  0.966065    4.0  0.000745  0.000860\n"
     ]
    }
   ],
   "source": [
    "#Calculating Stress from the output data \n",
    "Area = float(Dimensions[\"Width\"]*Dimensions[\"Thickness\"])\n",
    "\n",
    "\n",
    "# Changing strain from percentage to mm/mm format\n",
    "eystrain[\"ey_strain\"] = eystrain[\"ey_strain\"]/100\n",
    "mises[\"mises_strain\"] = mises[\"mises_strain\"]/100\n",
    "\n",
    "# Calculating Stress from force \n",
    "output[\"stress\"] = output[\"Force\"]/Area \n",
    "\n",
    "# Assembling all the data to a data frame\n",
    "data = pd.concat(\n",
    "    [output['Time'], output['stress'], eystrain['Stage'], eystrain['ey_strain'], mises['mises_strain']], \n",
    "    axis = 1, keys= ['time','stress','stage','strain','mises'])\n",
    "\n",
    "print(Area)\n",
    "# print(output.head(20))\n",
    "print(data.head(5))"
   ]
  },
  {
   "cell_type": "code",
   "execution_count": 383,
   "metadata": {
    "collapsed": false
   },
   "outputs": [
    {
     "name": "stdout",
     "output_type": "stream",
     "text": [
      "420\n",
      "420\n",
      "420\n"
     ]
    }
   ],
   "source": [
    "#Filtering stress\n",
    "\n",
    "#Filtering out the Stress data corresponding to each Strain Stage\n",
    "\n",
    "Stress = []\n",
    "time = np.array(data['time'])\n",
    "stage = np.array(data['stage'].dropna())\n",
    "time_sorted = []\n",
    "\n",
    "# Finding closest time value of stress corresponding to each strain stage data\n",
    "for i in range(0, len(stage)):\n",
    "    time_sorted.append(min(range(len(time)), key=lambda j: abs(time[j]-stage[i])))\n",
    "\n",
    "for i in range (0, len(time_sorted)):\n",
    "        Stress.append(data['stress'][time_sorted[i]]) \n",
    "\n",
    "Strain = np.array(data[\"strain\"].dropna())\n",
    "Mises = np.array(data[\"mises\"].dropna())\n",
    "\n",
    "print(len(Strain))\n",
    "print(len(Stress))\n",
    "print(len(Mises))\n",
    "\n",
    "Data = pd.DataFrame({'Strain':Strain,'Mises':Mises,'Stress':Stress},columns = ['Strain','Mises','Stress'])\n",
    "\n"
   ]
  },
  {
   "cell_type": "markdown",
   "metadata": {},
   "source": [
    "# Finding Split point "
   ]
  },
  {
   "cell_type": "code",
   "execution_count": 384,
   "metadata": {
    "collapsed": false
   },
   "outputs": [
    {
     "name": "stdout",
     "output_type": "stream",
     "text": [
      "done\n"
     ]
    }
   ],
   "source": [
    "def Split_Stress(stress, strain):\n",
    "    \n",
    "    # Split_point is strain at whaich standard deviation(ymodulus)/mean(ymodulus) > 10 %\n",
    "    \n",
    "    ymodulus = []\n",
    "    \n",
    "    window = 20\n",
    "    \n",
    "    for i in range(0,len(stress)-window):\n",
    "        ymodulus.append((stress[i+window] - stress[i])/(strain[i+window] - strain[i]))\n",
    "        m = np.mean(ymodulus)\n",
    "        s = np.std(ymodulus)\n",
    "        p = (s/m)*100\n",
    "        if np.floor(p) > 15:\n",
    "            global Split_Point\n",
    "            Split_Point = strain[i]  \n",
    "            break\n",
    "\n",
    "    #Calculating Young's Modulus from raw data ey_strain\n",
    "\n",
    "    #Filtering out the linear potion of the ey_strain and stress data to find the slope\n",
    "\n",
    "    linear_strain = []\n",
    "    linear_stress = []\n",
    "    strain_deviation = []\n",
    "\n",
    "    for i in range(0, len(strain)):\n",
    "        if strain[i] < Split_Point:\n",
    "            linear_strain.append(strain[i])\n",
    "            linear_stress.append(stress[i])\n",
    "    \n",
    "    linear_strain = np.array(linear_strain)\n",
    "    linear_stress = np.array(linear_stress)\n",
    "\n",
    "    linear_strain = linear_strain[:,np.newaxis]\n",
    "           \n",
    "    E_trial,r,_,_ = np.linalg.lstsq(linear_strain,linear_stress)    # Finding Young's Modulus by forcing to zero intercept\n",
    "    \n",
    "    # Calculating mean strain deviation for the linear_stress, linear_strain data\n",
    "    \n",
    "    for i in range(0,len(linear_strain)):\n",
    "        strain_deviation.append((linear_strain[i] - linear_stress[i]/E_trial))\n",
    "        \n",
    "    mean_strain_deviation = np.mean(strain_deviation)\n",
    "    \n",
    "    # Filtering out the stress, strain data with strain deviation within bounds \n",
    "    # of mean strain deviation +/- Extensometer least count\n",
    "            \n",
    "    filtered_stress =[]\n",
    "    \n",
    "    for i in range(0,len(strain)):\n",
    "            if mean_strain_deviation-0.0005 < (strain[i]- (stress[i]/E_trial)) < mean_strain_deviation + 0.0005 :\n",
    "                filtered_stress.append(stress[i])\n",
    "    break_stress = np.max(filtered_stress)\n",
    "    return(break_stress)\n",
    "print('done')"
   ]
  },
  {
   "cell_type": "markdown",
   "metadata": {},
   "source": [
    "# Finding Mechanical Properties "
   ]
  },
  {
   "cell_type": "code",
   "execution_count": 385,
   "metadata": {
    "collapsed": false
   },
   "outputs": [
    {
     "name": "stdout",
     "output_type": "stream",
     "text": [
      "done\n"
     ]
    }
   ],
   "source": [
    "# Function to calculate Mechanical Properties\n",
    "\n",
    "def Mechanical_Properties(stress, strain, split_stress):\n",
    "\n",
    "    #Calculating Young's Modulus from raw data ey_strain\n",
    "\n",
    "    #Filtering out the linear potion of the ey_strain and stress data to find the slope\n",
    "\n",
    "    linear_strain = []\n",
    "    linear_stress = []\n",
    "\n",
    "    for i in range(0, len(stress)):\n",
    "        if stress[i] < split_stress:\n",
    "            linear_strain.append(strain[i])\n",
    "            linear_stress.append(stress[i])\n",
    "\n",
    "    # Filtering out the linear potion of the ey_strain and stress data to fit a polynomial\n",
    "\n",
    "    nonlinear_strain =[]\n",
    "    nonlinear_stress =[]\n",
    "\n",
    "    for i in range(0,len(stress)):\n",
    "        if stress[i] > split_stress:\n",
    "            nonlinear_strain.append(strain[i])\n",
    "            nonlinear_stress.append(stress[i])\n",
    "            \n",
    "    linear_strain = np.array(linear_strain)\n",
    "    linear_stress = np.array(linear_stress)\n",
    "\n",
    "#     linear_strain = linear_strain[:,np.newaxis]\n",
    "\n",
    "#     E,r,_,_ = np.linalg.lstsq(linear_strain,linear_stress)\n",
    "    E,c,r,_,_ = stats.linregress(linear_strain,linear_stress)\n",
    "    \n",
    "\n",
    "    #Calculating R^2 value\n",
    "    K = len(linear_stress)\n",
    "    r_squared =  1 - r /(K * linear_stress.var())\n",
    "    r_squared = round(r_squared,5)\n",
    "\n",
    "    #Calculating coefficient of variation\n",
    "    V = 100*np.sqrt(((1/r_squared)-1)/(K-2))\n",
    "\n",
    "    #Fitting a polynomial curve to the nonlinear portion of stress-strain curve\n",
    "    p = np.polyfit(nonlinear_strain,nonlinear_stress,22)\n",
    "    p1d = np.poly1d(p)\n",
    "    \n",
    "    \n",
    "    #Finding Ultimate Stress and Strain\n",
    "    ucs = np.amax(stress)\n",
    "    ucstrain = np.amax(strain)\n",
    "\n",
    "    # To find yield stress from initially filtered data of Engineering strain vs Engineering stress\n",
    "    # This works by finding intersection point of the straight line and polynomial\n",
    "\n",
    "    x = np.linspace(0.002,0.05,1000)\n",
    "\n",
    "    for i in range(0,len(x)):\n",
    "        if (E*(x[i] -0.002)) > (p1d(x[i])):\n",
    "            yieldstrain = x[i]\n",
    "            yieldstress = p1d(x[i])\n",
    "            break \n",
    "            \n",
    "#     for i in range(0,len(strain)):\n",
    "#         if E*(strain[i] -0.002 ) > (stress[i]):\n",
    "#             yieldstrain = strain[i]\n",
    "#             yieldstress = stress[i]\n",
    "#             break \n",
    "\n",
    "\n",
    "    #Caculating ductility from filtered data ey_strain\n",
    "        \n",
    "    ductility = (ucstrain - yieldstrain)*100\n",
    "    ductility = round(ductility,2)\n",
    "    return(round(yieldstress,2),round(ucs,2),int(E),round(ductility,2),round(r_squared,5),K,round(V,5))\n",
    "\n",
    "print(\"done\")\n",
    "\n"
   ]
  },
  {
   "cell_type": "code",
   "execution_count": 386,
   "metadata": {
    "collapsed": false
   },
   "outputs": [
    {
     "name": "stdout",
     "output_type": "stream",
     "text": [
      "350\n",
      "  Result Type  Yield Strength(Mpa)  Ultimate Strength(Mpa)  \\\n",
      "0    Uniaxial               639.38                  990.41   \n",
      "1       Mises               632.58                  990.41   \n",
      "\n",
      "   Youngs Modulus(Gpa)  Ductility      R^2  Data Points   CoV(%)  \n",
      "0                  130      23.43  0.99999           15  0.08771  \n",
      "1                  131      23.52  0.99999           15  0.08771  \n"
     ]
    },
    {
     "name": "stderr",
     "output_type": "stream",
     "text": [
      "C:\\Users\\senth\\Anaconda2\\lib\\site-packages\\numpy\\lib\\polynomial.py:595: RankWarning: Polyfit may be poorly conditioned\n",
      "  warnings.warn(msg, RankWarning)\n",
      "C:\\Users\\senth\\Anaconda2\\lib\\site-packages\\numpy\\lib\\polynomial.py:595: RankWarning: Polyfit may be poorly conditioned\n",
      "  warnings.warn(msg, RankWarning)\n"
     ]
    }
   ],
   "source": [
    "#Mechanical properties in different processing conditions\n",
    "\n",
    "split_stress = 350\n",
    "print(split_stress)\n",
    "\n",
    "[y,ucs,E,d,R2,K,V] = Mechanical_Properties(Stress,Strain,split_stress)\n",
    "\n",
    "\n",
    "[y1,ucs1,E1,d1,R2_1,K1,V1] = Mechanical_Properties(Stress,Mises,split_stress)\n",
    "\n",
    "dir = 'Results'\n",
    "if not os.path.exists(dir):\n",
    "    os.makedirs(dir)\n",
    "else:\n",
    "    shutil.rmtree(dir)           #removes all the subdirectories!\n",
    "    os.makedirs(dir)\n",
    "\n",
    "os.chdir('Results')\n",
    "\n",
    "Data = pd.DataFrame({'Strain':Strain,'Mises':Mises,'Stress':Stress},columns = ['Strain','Mises','Stress'])\n",
    "\n",
    "Results = pd.DataFrame({'Result Type':['Uniaxial','Mises'],'Yield Strength(Mpa)':[y,y1],'Ultimate Strength(Mpa)':[ucs,ucs1],\n",
    "                        'Youngs Modulus(Gpa)':[E/1000,E1/1000],'Ductility':[d,d1],'R^2':[R2,R2_1],'Data Points':[K,K1],'CoV(%)':[V,V1]},\n",
    "                        columns = ['Result Type','Yield Strength(Mpa)','Ultimate Strength(Mpa)','Youngs Modulus(Gpa)',\n",
    "                                   'Ductility','R^2','Data Points','CoV(%)'])\n",
    "\n",
    "Results.to_csv('Results.csv')\n",
    "Data.to_csv('Data.csv')\n",
    "\n",
    "print(Results)\n"
   ]
  },
  {
   "cell_type": "code",
   "execution_count": 387,
   "metadata": {
    "collapsed": false
   },
   "outputs": [],
   "source": [
    "# Plotting \n",
    "\n",
    "# To draw straight line in graph\n",
    "\n",
    "b = np.linspace(0,0.01,1000)\n",
    "g = np.linspace(0.002,0.015,2000)\n",
    "\n",
    "a = E*b\n",
    "c = E*(g - 0.002)\n",
    "\n",
    "a1 = E1*b\n",
    "c1 = E1*(g - 0.002)\n",
    "\n",
    "#plt.clf()\n",
    "\n",
    "plt.figure(figsize = (20,15))\n",
    "plt.rc('xtick', labelsize=20) \n",
    "plt.rc('ytick', labelsize=20)\n",
    "plt.plot(Strain, Stress, 'k.')\n",
    "plt.plot(b,a,'-')\n",
    "plt.plot(g,c,'-')\n",
    "plt.xlabel('Engineering Strain (mm/mm)', fontsize = 20)\n",
    "plt.ylabel('Engineering Stress (Mpa)', fontsize = 20)\n",
    "plt.xlim([0,Strain.max()+0.01])\n",
    "plt.ylim([0,1600])\n",
    "plt.savefig('Eng_Strain_Stress.tiff')\n",
    "\n",
    "plt.figure(figsize = (20,15))\n",
    "plt.rc('xtick', labelsize=20) \n",
    "plt.rc('ytick', labelsize=20)\n",
    "plt.plot(Mises, Stress, 'k.')\n",
    "plt.plot(b,a1,'-')\n",
    "plt.plot(g,c1,'-')\n",
    "plt.xlabel('Mises Strain (mm/mm)', fontsize = 20)\n",
    "plt.ylabel('Engineering Stress (Mpa)', fontsize = 20)\n",
    "plt.xlim([0,Mises.max()+0.01])\n",
    "plt.ylim([0,1600])\n",
    "plt.savefig('Mises_Strain_Stress.tiff')\n",
    "\n",
    "plt.show()\n"
   ]
  },
  {
   "cell_type": "code",
   "execution_count": null,
   "metadata": {
    "collapsed": true
   },
   "outputs": [],
   "source": []
  },
  {
   "cell_type": "code",
   "execution_count": null,
   "metadata": {
    "collapsed": true
   },
   "outputs": [],
   "source": []
  }
 ],
 "metadata": {
  "kernelspec": {
   "display_name": "Python 2",
   "language": "python",
   "name": "python2"
  },
  "language_info": {
   "codemirror_mode": {
    "name": "ipython",
    "version": 2
   },
   "file_extension": ".py",
   "mimetype": "text/x-python",
   "name": "python",
   "nbconvert_exporter": "python",
   "pygments_lexer": "ipython2",
   "version": "2.7.13"
  }
 },
 "nbformat": 4,
 "nbformat_minor": 0
}
