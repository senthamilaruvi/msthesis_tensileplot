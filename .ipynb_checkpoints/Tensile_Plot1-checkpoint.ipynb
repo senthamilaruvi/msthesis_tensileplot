{
 "cells": [
  {
   "cell_type": "code",
   "execution_count": 214,
   "metadata": {
    "collapsed": false
   },
   "outputs": [],
   "source": [
    "# Getting the input data\n",
    "import os\n",
    "import pandas as pd\n",
    "import numpy as np\n",
    "import matplotlib.pyplot as plt \n",
    "from scipy import stats\n",
    "from scipy.optimize import leastsq\n",
    "import shutil\n"
   ]
  },
  {
   "cell_type": "code",
   "execution_count": 215,
   "metadata": {
    "collapsed": false
   },
   "outputs": [
    {
     "name": "stdout",
     "output_type": "stream",
     "text": [
      "Input_length:\n",
      "477\n",
      "       Time      Force      Disp\n",
      "0  0.175781   0.208151 -0.001085\n",
      "1  0.275391   1.902645 -0.000682\n",
      "2  0.375000   4.266529 -0.000295\n",
      "3  0.474609   9.303493 -0.000289\n",
      "4  0.574219  14.142552  0.000030\n"
     ]
    }
   ],
   "source": [
    "os.chdir('E:\\Python\\Tensile_Plot\\Data\\F03')\n",
    "\n",
    "# Reading all the data in csv format to the data frame\n",
    "\n",
    "output = pd.read_csv(\"output.csv\",skiprows = 8, names = ['Time','Force','Disp']).dropna(axis = 0)\n",
    "output = output.apply(pd.to_numeric, errors ='coerce')\n",
    "eystrain = pd.read_csv(\"ey_strain.csv\",skiprows = 3, names =['Stage','ey_strain']).dropna(axis =0)\n",
    "eystrain = eystrain.apply(pd.to_numeric, errors='coerce')\n",
    "mises = pd.read_csv(\"mises.csv\",skiprows = 3, names =['Stage','mises_strain']).dropna(axis = 0)\n",
    "mises = mises.apply(pd.to_numeric, errors='coerce')\n",
    "Dimensions = pd.read_table(\"Dimensions.txt\")\n",
    "\n",
    "print('Input_length:')\n",
    "print(len(eystrain))\n",
    "print(output.head(5))"
   ]
  },
  {
   "cell_type": "code",
   "execution_count": 216,
   "metadata": {
    "collapsed": false
   },
   "outputs": [
    {
     "name": "stdout",
     "output_type": "stream",
     "text": [
      "   Stage  mises_strain\n",
      "0    0.0        0.0000\n",
      "1    1.0        0.0228\n",
      "2    2.0        0.0349\n",
      "3    3.0        0.0522\n",
      "4    4.0        0.0677\n",
      "       time     stress  stage    strain     mises\n",
      "0  0.175781   0.017346    0.0  0.000000  0.000000\n",
      "1  0.275391   0.158554    1.0  0.000179  0.000228\n",
      "2  0.375000   0.355544    2.0  0.000285  0.000349\n",
      "3  0.474609   0.775291    3.0  0.000457  0.000522\n",
      "4  0.574219   1.178546    4.0  0.000642  0.000677\n",
      "5  0.673828   1.723242    5.0  0.000801  0.000831\n",
      "6  0.773438   2.485397    6.0  0.000935  0.000972\n",
      "7  0.873047   4.722775    7.0  0.001110  0.001130\n",
      "8  0.972656  15.326542    8.0  0.001280  0.001300\n",
      "9  1.072266  27.539653    9.0  0.001430  0.001450\n"
     ]
    }
   ],
   "source": [
    "#Calculating Stress from the output data \n",
    "Area = int(Dimensions[\"Width\"]*Dimensions[\"Thickness\"])\n",
    "print(mises.head(5))\n",
    "\n",
    "# Changing strain from percentage to mm/mm format\n",
    "eystrain[\"ey_strain\"] = eystrain[\"ey_strain\"]/100\n",
    "mises[\"mises_strain\"] = mises[\"mises_strain\"]/100\n",
    "\n",
    "\n",
    "\n",
    "# Calculating Stress from force \n",
    "output[\"stress\"] = output[\"Force\"]/Area \n",
    "\n",
    "# Assembling all the data to a data frame\n",
    "data = pd.concat(\n",
    "    [output['Time'], output['stress'], eystrain['Stage'], eystrain['ey_strain'], mises['mises_strain']], \n",
    "    axis = 1, keys= ['time','stress','stage','strain','mises'])\n",
    "\n",
    "print(data.head(10))\n"
   ]
  },
  {
   "cell_type": "code",
   "execution_count": 217,
   "metadata": {
    "collapsed": false
   },
   "outputs": [
    {
     "name": "stdout",
     "output_type": "stream",
     "text": [
      "477\n",
      "477\n",
      "477\n"
     ]
    }
   ],
   "source": [
    "#Filtering stress\n",
    "\n",
    "#Filtering out the Stress data corresponding to each Strain Stage\n",
    "\n",
    "stress = []\n",
    "time = np.array(data['time'].dropna())\n",
    "stage = np.array(data['stage'].dropna())\n",
    "time_sorted = []\n",
    "\n",
    "# Finding closest time value of stress corresponding to each strain stage data\n",
    "for i in range(0, len(stage)):\n",
    "    time_sorted.append(min(range(len(time)), key=lambda j: abs(time[j]-stage[i])))\n",
    "\n",
    "for i in range (0, len(time_sorted)):\n",
    "        stress.append(data['stress'][time_sorted[i]]) \n",
    "\n",
    "strain = np.array(data[\"strain\"].dropna())\n",
    "mises = np.array(data[\"mises\"].dropna())\n",
    "stress = np.array(stress)\n",
    "\n",
    "ucs = np.max(stress)\n",
    "ucstrain = np.max(strain)\n",
    "ucmises = np.max(mises)\n",
    "\n",
    "print(len(strain))\n",
    "print(len(stress))\n",
    "print(len(mises))\n",
    "\n",
    "\n"
   ]
  },
  {
   "cell_type": "markdown",
   "metadata": {},
   "source": [
    "# Residual strain determination of linear region"
   ]
  },
  {
   "cell_type": "code",
   "execution_count": 218,
   "metadata": {
    "collapsed": true
   },
   "outputs": [],
   "source": [
    "def objective_generator(func, xobs, yobs):\n",
    "    \"\"\"\n",
    "    Generate a fitting function (`func`) based on a set of observed data (`xobs` and `yobs`).\n",
    "    \n",
    "    IN\n",
    "    --\n",
    "    :func, callable: Function with signature `func(params, xobs)` that accepts a numpy array\n",
    "        of the fitting parameters and observed x-values.\n",
    "    :xobs, numpy.ndarray: observed x-values.\n",
    "    :yobs, numpy.ndarray: observed y-values.\n",
    "    \n",
    "    OUT\n",
    "    ---\n",
    "    `f(params)`, a function of only the fitting parameter values. This is a function that\n",
    "    calculates form, `f(params) = yobs - func(params, xobs)`.\n",
    "    \"\"\"\n",
    "    assert hasattr(func, '__call__'), \\\n",
    "        '`func` must be callable.'\n",
    "    xobs = np.asarray(xobs)\n",
    "    if len(xobs.shape) == 1:\n",
    "        xobs = xobs[:, np.newaxis]\n",
    "    yobs = np.asarray(yobs)\n",
    "    def f(params):\n",
    "        return yobs - func(params, xobs)\n",
    "    return f\n",
    "\n",
    "def lm(params, xobs):\n",
    "    \"\"\"Linear fit, `y = m*x`, enforcing a zero intercept.\"\"\"\n",
    "    # y ~ a0 x0 + a1 x1 + ...\n",
    "    params = np.asarray(params)\n",
    "    return np.dot(params, xobs.T)\n",
    "\n",
    "def lmb(params, xobs):\n",
    "    \"\"\"Linear fit, `y = b + m*x`, for a non-zero intercept.\"\"\"\n",
    "    # y ~ a0 + a1 x0 + a2 x1 + ...\n",
    "    params = np.asarray(params)\n",
    "    return params[0] + np.dot(params[1:], xobs.T)"
   ]
  },
  {
   "cell_type": "code",
   "execution_count": 219,
   "metadata": {
    "collapsed": true
   },
   "outputs": [],
   "source": [
    "def residual_strain(modulus, epsilon, sigma):\n",
    "    \"\"\"\n",
    "    Calculates the residual strain from a trial modulus, strain, and stress, respectively.\n",
    "    \"\"\"\n",
    "    return epsilon - sigma/modulus"
   ]
  },
  {
   "cell_type": "code",
   "execution_count": 220,
   "metadata": {
    "collapsed": true
   },
   "outputs": [],
   "source": [
    "def true_to_final(mask):\n",
    "    \"\"\"\n",
    "    Transforms a boolean vector (`mask`) that contains mixed T/F values, e.g.\n",
    "    \n",
    "    `mask = [T, T, T, F, T, T, F, F, T, T, T, T, F, F, F, F, F, F, F]`\n",
    "    \n",
    "    into\n",
    "    \n",
    "    `mask = [T, T, T, T, T, T, T, T, T, T, T, T, F, F, F, F, F, F, F]`\n",
    "    \n",
    "    effectively dividing mask in half -- left side True, right side False.\n",
    "    The resultant dividing mask is returned.\n",
    "    \"\"\"\n",
    "    result = np.zeros_like(mask, dtype=bool)\n",
    "    itrue = np.argwhere(mask)\n",
    "    try:\n",
    "        result[:itrue[-1, 0]] = True\n",
    "    except IndexError:\n",
    "        pass\n",
    "    return result"
   ]
  },
  {
   "cell_type": "code",
   "execution_count": 221,
   "metadata": {
    "collapsed": false
   },
   "outputs": [
    {
     "name": "stdout",
     "output_type": "stream",
     "text": [
      "Iteration 1: (477 pts, 5402.39146423 MPa)\n",
      "Iteration 2: (355 pts, 7884.55476229 MPa)\n",
      "Iteration 3: (264 pts, 11552.3227685 MPa)\n",
      "Iteration 4: (199 pts, 17527.3711686 MPa)\n",
      "Iteration 5: (153 pts, 28399.0679936 MPa)\n",
      "Iteration 6: (122 pts, 48941.9017452 MPa)\n",
      "Iteration 7: (100 pts, 85936.3660433 MPa)\n",
      "Iteration 8: (84 pts, 118565.513141 MPa)\n",
      "Iteration 9: (65 pts, 133882.059591 MPa)\n",
      "Iteration 10: (45 pts, 143376.213047 MPa)\n",
      "Iteration 11: (29 pts, 151112.079454 MPa)\n",
      "Iteration 12: (20 pts, 156818.270285 MPa)\n",
      "Iteration 13: (14 pts, 164075.472814 MPa)\n",
      "Iteration 14: (8 pts, 175697.059846 MPa)\n",
      "Iteration 15: (6 pts, 176236.297843 MPa)\n",
      "Iteration 16: (6 pts, 176236.297843 MPa)\n",
      "Iteration 17: (6 pts, 176236.297843 MPa)\n",
      "Iteration 18: (6 pts, 176236.297843 MPa)\n",
      "Iteration 19: (6 pts, 176236.297843 MPa)\n",
      "Iteration 20: (6 pts, 176236.297843 MPa)\n"
     ]
    },
    {
     "data": {
      "text/plain": [
       "<matplotlib.text.Text at 0x154a1320>"
      ]
     },
     "execution_count": 221,
     "metadata": {},
     "output_type": "execute_result"
    }
   ],
   "source": [
    "plt.figure(figsize=(16,9))\n",
    "\n",
    "# iteratively use residual strain to find the points that should be used to\n",
    "# fit the Young's modulus\n",
    "mask = np.ones_like(strain, dtype=bool)\n",
    "for numiter in range(20):\n",
    "    # perform a linear fit with the current set of points\n",
    "    func = objective_generator(lm, strain[mask], stress[mask])\n",
    "    x0 = np.ones(1)\n",
    "    x, covx, infodict, mesg, ier = leastsq(func, x0, full_output=True)\n",
    "    # the current modulus\n",
    "    modulus = x[0]\n",
    "    print('Iteration {}: ({} pts, {} MPa)'.format(numiter+1, np.sum(mask), modulus))\n",
    "    # use residual strain to figure out the appropriate strain\n",
    "    eps = residual_strain(modulus, strain, stress)\n",
    "    mask = true_to_final(eps < 0)\n",
    "    # plot the residual stress\n",
    "    m = ~(np.isinf(eps) | np.isnan(eps))\n",
    "    plt.plot(eps[m], stress[m], 'o', label='Iteration {}'.format(numiter+1))\n",
    "\n",
    "plt.xlabel('residual strain (mm/mm)')\n",
    "plt.ylabel('stress (MPa)')\n",
    "plt.title('Evolution of Residual Strain')\n",
    "plt.legend()\n",
    "\n",
    "# show a narrower view of the final residual stress values\n",
    "plt.figure(figsize=(16,9))\n",
    "plt.plot(eps[m], stress[m], 'o-')\n",
    "plt.axvline(color='k', ls='-')\n",
    "xlo = 1.2*np.min(eps[m])\n",
    "xhi = xlo + 2.4*np.abs(xlo)\n",
    "ylo, yhi = 0, 1.2*np.max(stress[eps < xhi])\n",
    "plt.xlim(xlo, xhi)\n",
    "plt.ylim(ylo, yhi)\n",
    "plt.xlabel('residual strain (mm/mm)')\n",
    "plt.ylabel('stress (MPa)')\n",
    "plt.title('Final residual strain')\n"
   ]
  },
  {
   "cell_type": "code",
   "execution_count": 222,
   "metadata": {
    "collapsed": false
   },
   "outputs": [
    {
     "name": "stdout",
     "output_type": "stream",
     "text": [
      "\n",
      "Modulus: 176.236 GPa\n",
      "Standard deviation: 5.994 GPa\n",
      "R-squared: 0.981\n",
      "COV: 7.033%\n",
      "\n"
     ]
    }
   ],
   "source": [
    "# Note: `mask` is the last mask used to select points for fitting the modulus\n",
    "# see https://en.wikipedia.org/wiki/Coefficient_of_determination\n",
    "statistics = {'modulus' : modulus/1000.}\n",
    "SST = np.sum((stress[mask] - np.mean(stress[mask]))**2) # total sum of squares\n",
    "SSR = np.sum((stress[mask] - modulus*strain[mask])**2) # sum of the square of the residuals\n",
    "statistics['Rsq'] = 1. - SSR/SST\n",
    "statistics['COV'] = 100*np.sqrt((1./statistics['Rsq'] - 1.)/(np.sum(mask) - 2))\n",
    "# we can calculate the the covariance matrix from the residual variance\n",
    "residual_variance = SSR/np.sum(mask)\n",
    "covariance = covx[0,0]*residual_variance\n",
    "statistics['std'] = np.sqrt(covariance)/1000.\n",
    "\n",
    "R2 = statistics['Rsq']\n",
    "COV = statistics['COV']\n",
    "K = len(strain[mask])\n",
    "\n",
    "\n",
    "print(\"\"\"\n",
    "Modulus: {modulus:.3f} GPa\n",
    "Standard deviation: {std:.3f} GPa\n",
    "R-squared: {Rsq:.3f}\n",
    "COV: {COV:.3f}%\n",
    "\"\"\".format(**statistics))"
   ]
  },
  {
   "cell_type": "code",
   "execution_count": 223,
   "metadata": {
    "collapsed": false
   },
   "outputs": [
    {
     "name": "stdout",
     "output_type": "stream",
     "text": [
      "Iteration 1: (477 pts, 5331.61122586 MPa)\n",
      "Iteration 2: (355 pts, 7780.6022185 MPa)\n",
      "Iteration 3: (265 pts, 11350.4135229 MPa)\n",
      "Iteration 4: (201 pts, 17042.6850374 MPa)\n",
      "Iteration 5: (155 pts, 27406.2878249 MPa)\n",
      "Iteration 6: (123 pts, 47737.2727855 MPa)\n",
      "Iteration 7: (100 pts, 85712.8792778 MPa)\n",
      "Iteration 8: (84 pts, 117722.145177 MPa)\n",
      "Iteration 9: (65 pts, 132667.513889 MPa)\n",
      "Iteration 10: (45 pts, 142034.417619 MPa)\n",
      "Iteration 11: (29 pts, 149365.820067 MPa)\n",
      "Iteration 12: (21 pts, 154096.563704 MPa)\n",
      "Iteration 13: (14 pts, 160983.417092 MPa)\n",
      "Iteration 14: (8 pts, 167593.232653 MPa)\n",
      "Iteration 15: (7 pts, 166543.096308 MPa)\n",
      "Iteration 16: (7 pts, 166543.096308 MPa)\n",
      "Iteration 17: (7 pts, 166543.096308 MPa)\n",
      "Iteration 18: (7 pts, 166543.096308 MPa)\n",
      "Iteration 19: (7 pts, 166543.096308 MPa)\n",
      "Iteration 20: (7 pts, 166543.096308 MPa)\n"
     ]
    },
    {
     "data": {
      "text/plain": [
       "<matplotlib.text.Text at 0x15853b70>"
      ]
     },
     "execution_count": 223,
     "metadata": {},
     "output_type": "execute_result"
    }
   ],
   "source": [
    "plt.figure(figsize=(16,9))\n",
    "\n",
    "# iteratively use residual strain to find the points that should be used to\n",
    "# fit the Young's modulus\n",
    "mask = np.ones_like(mises, dtype=bool)\n",
    "for numiter in range(20):\n",
    "    # perform a linear fit with the current set of points\n",
    "    func = objective_generator(lm, mises[mask], stress[mask])\n",
    "    x0 = np.ones(1)\n",
    "    x, covx, infodict, mesg, ier = leastsq(func, x0, full_output=True)\n",
    "    # the current modulus\n",
    "    modulus1 = x[0]\n",
    "    print('Iteration {}: ({} pts, {} MPa)'.format(numiter+1, np.sum(mask), modulus1))\n",
    "    # use residual strain to figure out the appropriate strain\n",
    "    eps = residual_strain(modulus1, mises, stress)\n",
    "    mask = true_to_final(eps < 0)\n",
    "    # plot the residual stress\n",
    "    m = ~(np.isinf(eps) | np.isnan(eps))\n",
    "    plt.plot(eps[m], stress[m], 'o', label='Iteration {}'.format(numiter+1))\n",
    "\n",
    "plt.xlabel('residual strain (mm/mm)')\n",
    "plt.ylabel('stress (MPa)')\n",
    "plt.title('Evolution of Residual Strain')\n",
    "plt.legend()\n",
    "\n",
    "# show a narrower view of the final residual stress values\n",
    "plt.figure(figsize=(16,9))\n",
    "plt.plot(eps[m], stress[m], 'o-')\n",
    "plt.axvline(color='k', ls='-')\n",
    "xlo = 1.2*np.min(eps[m])\n",
    "xhi = xlo + 2.4*np.abs(xlo)\n",
    "ylo, yhi = 0, 1.2*np.max(stress[eps < xhi])\n",
    "plt.xlim(xlo, xhi)\n",
    "plt.ylim(ylo, yhi)\n",
    "plt.xlabel('residual strain (mm/mm)')\n",
    "plt.ylabel('stress (MPa)')\n",
    "plt.title('Final residual strain')\n"
   ]
  },
  {
   "cell_type": "markdown",
   "metadata": {},
   "source": [
    "# Report the statistics of the calculation\n",
    "\n",
    "This depends on the following variables from previous cells:\n",
    "\n",
    "strain: The strain, in mm/mm.\n",
    "\n",
    "stress: The stress, in MPa.\n",
    "\n",
    "modulus: The current value of the Young's modulus, in MPa.\n",
    "\n",
    "mask: The boolean mask selecting values used in the linear fit of the current Young's modulus.\n",
    "\n",
    "covx: Estimate of the Jacobian around the solution. This value times the variance of the residuals is the covariance matrix.\n"
   ]
  },
  {
   "cell_type": "code",
   "execution_count": 224,
   "metadata": {
    "collapsed": false
   },
   "outputs": [
    {
     "name": "stdout",
     "output_type": "stream",
     "text": [
      "\n",
      "Modulus1: 166.543 GPa\n",
      "Standard deviation: 5.796 GPa\n",
      "R-squared: 0.975\n",
      "COV: 6.291%\n",
      "\n"
     ]
    }
   ],
   "source": [
    "# Note: `mask` is the last mask used to select points for fitting the modulus\n",
    "\n",
    "# see https://en.wikipedia.org/wiki/Coefficient_of_determination\n",
    "statistics1 = {'modulus1' : modulus1/1000.}\n",
    "SST = np.sum((stress[mask] - np.mean(stress[mask]))**2) # total sum of squares\n",
    "SSR = np.sum((stress[mask] - modulus1*mises[mask])**2) # sum of the square of the residuals\n",
    "statistics1['Rsq1'] = 1. - SSR/SST\n",
    "statistics1['COV1'] = 100*np.sqrt((1./statistics['Rsq'] - 1.)/(np.sum(mask) - 2))\n",
    "# we can calculate the the covariance matrix from the residual variance\n",
    "residual_variance = SSR/np.sum(mask)\n",
    "covariance = covx[0,0]*residual_variance\n",
    "statistics1['std1'] = np.sqrt(covariance)/1000.\n",
    "\n",
    "R2_1 = statistics1['Rsq1']\n",
    "COV1 = statistics1['COV1']\n",
    "K1 = len(mises[mask])\n",
    "\n",
    "print(\"\"\"\n",
    "Modulus1: {modulus1:.3f} GPa\n",
    "Standard deviation: {std1:.3f} GPa\n",
    "R-squared: {Rsq1:.3f}\n",
    "COV: {COV1:.3f}%\n",
    "\"\"\".format(**statistics1))\n"
   ]
  },
  {
   "cell_type": "code",
   "execution_count": 225,
   "metadata": {
    "collapsed": false
   },
   "outputs": [],
   "source": [
    "#Creating Results Folder. If Results folder already exists the new folder would be overwrittern\n",
    "dir = 'Results'\n",
    "if not os.path.exists(dir):\n",
    "    os.makedirs(dir)\n",
    "else:\n",
    "    shutil.rmtree(dir)           #removes all the subdirectories!\n",
    "    os.makedirs(dir)\n",
    "\n",
    "os.chdir('Results')\n"
   ]
  },
  {
   "cell_type": "code",
   "execution_count": 226,
   "metadata": {
    "collapsed": true
   },
   "outputs": [],
   "source": [
    "# plot the stress strain curve, best fit line for the Young's modulus\n",
    "# and the offset line for determining the yield point.\n",
    "plt.figure(figsize=(16,9))\n",
    "plt.plot(strain, stress)\n",
    "m = modulus*strain < np.max(stress)\n",
    "plt.plot(strain[m], modulus*strain[m])\n",
    "plt.plot(strain[m]+0.002, modulus*strain[m])\n",
    "plt.xlim(0, 0.40)\n",
    "plt.xlabel('Engineering Strain (mm/mm)')\n",
    "plt.ylabel('Engineering Stress (MPa)')\n",
    "\n",
    "\n",
    "# add yield point\n",
    "below_yield = stress > modulus*(strain - 0.002)\n",
    "above_yield = ~below_yield\n",
    "yield_stress = (stress[below_yield][-1] + stress[above_yield][0])/2.\n",
    "yield_strain = (strain[below_yield][-1] + strain[above_yield][0])/2.\n",
    "d = (ucstrain - yield_strain)*100\n",
    "plt.plot([yield_strain], [yield_stress], 'ko')\n",
    "_ = plt.text(1.01*yield_strain, 0.99*yield_stress,\n",
    "         r'{:.0f} $\\mu\\epsilon$, {:.3f} MPa'.format(yield_strain*1000, yield_stress),\n",
    "         ha='left', va='top', fontsize='large')\n",
    "plt.savefig('Engineering Stress Strain curve')"
   ]
  },
  {
   "cell_type": "code",
   "execution_count": 227,
   "metadata": {
    "collapsed": true
   },
   "outputs": [],
   "source": [
    "# plot the stress strain curve, best fit line for the Young's modulus\n",
    "# and the offset line for determining the yield point.\n",
    "plt.figure(figsize=(16,9))\n",
    "plt.plot(mises, stress)\n",
    "m = modulus1*mises < np.max(stress)\n",
    "plt.plot(mises[m], modulus1*mises[m])\n",
    "plt.plot(mises[m]+0.002, modulus1*mises[m])\n",
    "plt.xlim(0, 0.40)\n",
    "plt.xlabel('Mises Strain (mm/mm)')\n",
    "plt.ylabel('Engineering Stress (MPa)')\n",
    "\n",
    "\n",
    "# add yield point\n",
    "below_yield = stress > modulus1*(mises - 0.002)\n",
    "above_yield = ~below_yield\n",
    "yield_stress1 = (stress[below_yield][-1] + stress[above_yield][0])/2.\n",
    "yield_strain1 = (mises[below_yield][-1] + mises[above_yield][0])/2.\n",
    "d1 = (ucmises - yield_strain1)*100\n",
    "plt.plot([yield_strain1], [yield_stress1], 'ko')\n",
    "_ = plt.text(1.01*yield_strain, 0.99*yield_stress,\n",
    "         r'{:.0f} $\\mu\\epsilon$, {:.3f} MPa'.format(yield_strain1*1000, yield_stress1),\n",
    "         ha='left', va='top', fontsize='large')\n",
    "plt.savefig('Mises Strain Stress curve')"
   ]
  },
  {
   "cell_type": "code",
   "execution_count": 228,
   "metadata": {
    "collapsed": false
   },
   "outputs": [
    {
     "name": "stdout",
     "output_type": "stream",
     "text": [
      "  Result Type  Yield Strength(Mpa)  Ultimate Strength(Mpa)  \\\n",
      "0    Uniaxial           668.086283             1006.879069   \n",
      "1       Mises           677.380086             1006.879069   \n",
      "\n",
      "   Youngs Modulus(Gpa)  Ductility       R^2       COV  Data Points  \n",
      "0           176.236298    27.9215  0.980598  7.033199            6  \n",
      "1           166.543096    28.2930  0.974854  6.290685            7  \n"
     ]
    }
   ],
   "source": [
    "#Saving Results in Results Folder\n",
    "Data = pd.DataFrame({'Strain':strain,'Mises':mises,'Stress':stress},columns = ['Strain','Mises','Stress'])\n",
    "\n",
    "Results = pd.DataFrame({'Result Type':['Uniaxial','Mises'],\n",
    "                        'Yield Strength(Mpa)':[yield_stress,yield_stress1],\n",
    "                        'Ultimate Strength(Mpa)':[ucs,ucs],\n",
    "                        'Youngs Modulus(Gpa)':[modulus/1000,modulus1/1000],\n",
    "                        'Ductility':[d,d1],\n",
    "                        'R^2':[R2,R2_1], 'COV':[COV,COV1], 'Data Points':[K,K1]},\n",
    "                        columns = ['Result Type','Yield Strength(Mpa)','Ultimate Strength(Mpa)','Youngs Modulus(Gpa)',\n",
    "                                   'Ductility','R^2','COV','Data Points'])\n",
    "\n",
    "Results.to_csv('Results.csv')\n",
    "Data.to_csv('Data.csv')\n",
    "\n",
    "print(Results)"
   ]
  }
 ],
 "metadata": {
  "kernelspec": {
   "display_name": "Python 2",
   "language": "python",
   "name": "python2"
  },
  "language_info": {
   "codemirror_mode": {
    "name": "ipython",
    "version": 2
   },
   "file_extension": ".py",
   "mimetype": "text/x-python",
   "name": "python",
   "nbconvert_exporter": "python",
   "pygments_lexer": "ipython2",
   "version": "2.7.13"
  }
 },
 "nbformat": 4,
 "nbformat_minor": 0
}
