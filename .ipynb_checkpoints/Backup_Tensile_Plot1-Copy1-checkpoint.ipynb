{
 "cells": [
  {
   "cell_type": "code",
   "execution_count": 13,
   "metadata": {
    "collapsed": false
   },
   "outputs": [],
   "source": [
    "# Getting the input data\n",
    "import os\n",
    "import pandas as pd\n",
    "import numpy as np\n",
    "import matplotlib.pyplot as plt \n",
    "from scipy import stats \n",
    "from scipy.optimize import leastsq\n",
    "import shutil\n"
   ]
  },
  {
   "cell_type": "code",
   "execution_count": 14,
   "metadata": {
    "collapsed": false
   },
   "outputs": [
    {
     "name": "stdout",
     "output_type": "stream",
     "text": [
      "Input_length:\n",
      "463\n"
     ]
    }
   ],
   "source": [
    "os.chdir('E:\\Python\\Tensile_Plot\\Data\\A09')\n",
    "\n",
    "# Reading all the data in csv format to the data frame\n",
    "\n",
    "output = pd.read_csv(\"output.csv\", skiprows = 3, names = ['Time','Force','Disp']).dropna(axis = 0)\n",
    "eystrain = pd.read_csv(\"ey_strain.csv\",skiprows = 3,names =['Stage','ey_strain']).dropna(axis =0)\n",
    "mises = pd.read_csv(\"mises.csv\",skiprows = 3, names =['Stage','mises_strain']).dropna(axis = 0)\n",
    "Dimensions = pd.read_table(\"Dimensions.txt\")\n",
    "\n",
    "print('Input_length:')\n",
    "print(len(eystrain))"
   ]
  },
  {
   "cell_type": "code",
   "execution_count": 15,
   "metadata": {
    "collapsed": false
   },
   "outputs": [
    {
     "name": "stdout",
     "output_type": "stream",
     "text": [
      "       time     stress  stage    strain     mises\n",
      "0  0.292969   0.093109    0.0  0.000000  0.000000\n",
      "1  0.392578   0.164654    1.0  0.000183  0.000429\n",
      "2  0.492188   0.280354    2.0  0.000411  0.000876\n",
      "3  0.591797   0.817337    3.0  0.000621  0.000920\n",
      "4  0.691406   1.472679    4.0  0.000936  0.001158\n",
      "5  0.791016   1.784698    5.0  0.001123  0.001355\n",
      "6  0.890625   1.882880    6.0  0.001421  0.001823\n",
      "7  0.990234   3.309728    7.0  0.001409  0.001586\n",
      "8  1.089844  16.037064    8.0  0.001664  0.001758\n",
      "9  1.189453  33.157465    9.0  0.001634  0.001872\n"
     ]
    }
   ],
   "source": [
    "#Calculating Stress from the output data \n",
    "Area = int(Dimensions[\"Width\"]*Dimensions[\"Thickness\"])\n",
    "\n",
    "\n",
    "# Changing strain from percentage to mm/mm format\n",
    "eystrain[\"ey_strain\"] = eystrain[\"ey_strain\"]/100\n",
    "mises[\"mises_strain\"] = mises[\"mises_strain\"]/100\n",
    "\n",
    "# Calculating Stress from force \n",
    "output[\"stress\"] = output[\"Force\"]/Area \n",
    "\n",
    "# Assembling all the data to a data frame\n",
    "data = pd.concat(\n",
    "    [output['Time'], output['stress'], eystrain['Stage'], eystrain['ey_strain'], mises['mises_strain']], \n",
    "    axis = 1, keys= ['time','stress','stage','strain','mises'])\n",
    "\n",
    "print(data.head(10))\n"
   ]
  },
  {
   "cell_type": "code",
   "execution_count": 16,
   "metadata": {
    "collapsed": false
   },
   "outputs": [
    {
     "name": "stdout",
     "output_type": "stream",
     "text": [
      "463\n",
      "463\n",
      "463\n",
      "<type 'numpy.ndarray'>\n"
     ]
    }
   ],
   "source": [
    "#Filtering stress\n",
    "\n",
    "#Filtering out the Stress data corresponding to each Strain Stage\n",
    "\n",
    "stress = []\n",
    "time = np.array(data['time'])\n",
    "stage = np.array(data['stage'].dropna())\n",
    "time_sorted = []\n",
    "\n",
    "# Finding closest time value of stress corresponding to each strain stage data\n",
    "for i in range(0, len(stage)):\n",
    "    time_sorted.append(min(range(len(time)), key=lambda j: abs(time[j]-stage[i])))\n",
    "\n",
    "for i in range (0, len(time_sorted)):\n",
    "        stress.append(data['stress'][time_sorted[i]]) \n",
    "\n",
    "strain = np.array(data[\"strain\"].dropna())\n",
    "mises = np.array(data[\"mises\"].dropna())\n",
    "stress = np.array(stress)\n",
    "\n",
    "print(len(strain))\n",
    "print(len(stress))\n",
    "print(len(mises))\n",
    "\n",
    "\n"
   ]
  },
  {
   "cell_type": "markdown",
   "metadata": {},
   "source": [
    "# Residual strain determination of linear region"
   ]
  },
  {
   "cell_type": "code",
   "execution_count": 17,
   "metadata": {
    "collapsed": true
   },
   "outputs": [],
   "source": [
    "def objective_generator(func, xobs, yobs):\n",
    "    \"\"\"\n",
    "    Generate a fitting function (`func`) based on a set of observed data (`xobs` and `yobs`).\n",
    "    \n",
    "    IN\n",
    "    --\n",
    "    :func, callable: Function with signature `func(params, xobs)` that accepts a numpy array\n",
    "        of the fitting parameters and observed x-values.\n",
    "    :xobs, numpy.ndarray: observed x-values.\n",
    "    :yobs, numpy.ndarray: observed y-values.\n",
    "    \n",
    "    OUT\n",
    "    ---\n",
    "    `f(params)`, a function of only the fitting parameter values. This is a function that\n",
    "    calculates form, `f(params) = yobs - func(params, xobs)`.\n",
    "    \"\"\"\n",
    "    assert hasattr(func, '__call__'), \\\n",
    "        '`func` must be callable.'\n",
    "    xobs = np.asarray(xobs)\n",
    "    if len(xobs.shape) == 1:\n",
    "        xobs = xobs[:, np.newaxis]\n",
    "    yobs = np.asarray(yobs)\n",
    "    def f(params):\n",
    "        return yobs - func(params, xobs)\n",
    "    return f\n",
    "\n",
    "def lm(params, xobs):\n",
    "    \"\"\"Linear fit, `y = m*x`, enforcing a zero intercept.\"\"\"\n",
    "    # y ~ a0 x0 + a1 x1 + ...\n",
    "    params = np.asarray(params)\n",
    "    return np.dot(params, xobs.T)\n",
    "\n",
    "def lmb(params, xobs):\n",
    "    \"\"\"Linear fit, `y = b + m*x`, for a non-zero intercept.\"\"\"\n",
    "    # y ~ a0 + a1 x0 + a2 x1 + ...\n",
    "    params = np.asarray(params)\n",
    "    return params[0] + np.dot(params[1:], xobs.T)"
   ]
  },
  {
   "cell_type": "code",
   "execution_count": 18,
   "metadata": {
    "collapsed": true
   },
   "outputs": [],
   "source": [
    "def residual_strain(modulus, epsilon, sigma):\n",
    "    \"\"\"\n",
    "    Calculates the residual strain from a trial modulus, strain, and stress, respectively.\n",
    "    \"\"\"\n",
    "    return epsilon - sigma/modulus"
   ]
  },
  {
   "cell_type": "code",
   "execution_count": 19,
   "metadata": {
    "collapsed": true
   },
   "outputs": [],
   "source": [
    "def true_to_final(mask):\n",
    "    \"\"\"\n",
    "    Transforms a boolean vector (`mask`) that contains mixed T/F values, e.g.\n",
    "    \n",
    "    `mask = [T, T, T, F, T, T, F, F, T, T, T, T, F, F, F, F, F, F, F]`\n",
    "    \n",
    "    into\n",
    "    \n",
    "    `mask = [T, T, T, T, T, T, T, T, T, T, T, T, F, F, F, F, F, F, F]`\n",
    "    \n",
    "    effectively dividing mask in half -- left side True, right side False.\n",
    "    The resultant dividing mask is returned.\n",
    "    \"\"\"\n",
    "    result = np.zeros_like(mask, dtype=bool)\n",
    "    itrue = np.argwhere(mask)\n",
    "    try:\n",
    "        result[:itrue[-1, 0]] = True\n",
    "    except IndexError:\n",
    "        pass\n",
    "    return result"
   ]
  },
  {
   "cell_type": "code",
   "execution_count": 20,
   "metadata": {
    "collapsed": false
   },
   "outputs": [
    {
     "name": "stdout",
     "output_type": "stream",
     "text": [
      "Iteration 1: (463 pts, 5395.83282691 MPa)\n",
      "Iteration 2: (340 pts, 7928.30084889 MPa)\n",
      "Iteration 3: (251 pts, 11737.8704809 MPa)\n",
      "Iteration 4: (187 pts, 18099.3350389 MPa)\n",
      "Iteration 5: (142 pts, 29307.0823324 MPa)\n",
      "Iteration 6: (112 pts, 48711.2806359 MPa)\n",
      "Iteration 7: (90 pts, 74047.8340173 MPa)\n",
      "Iteration 8: (71 pts, 91423.9010898 MPa)\n",
      "Iteration 9: (51 pts, 102569.93187 MPa)\n",
      "Iteration 10: (35 pts, 111157.111837 MPa)\n",
      "Iteration 11: (23 pts, 120127.955935 MPa)\n",
      "Iteration 12: (22 pts, 119818.889048 MPa)\n",
      "Iteration 13: (22 pts, 119818.889048 MPa)\n",
      "Iteration 14: (22 pts, 119818.889048 MPa)\n",
      "Iteration 15: (22 pts, 119818.889048 MPa)\n",
      "Iteration 16: (22 pts, 119818.889048 MPa)\n",
      "Iteration 17: (22 pts, 119818.889048 MPa)\n",
      "Iteration 18: (22 pts, 119818.889048 MPa)\n",
      "Iteration 19: (22 pts, 119818.889048 MPa)\n",
      "Iteration 20: (22 pts, 119818.889048 MPa)\n"
     ]
    }
   ],
   "source": [
    "plt.figure(figsize=(16,9))\n",
    "\n",
    "# iteratively use residual strain to find the points that should be used to\n",
    "# fit the Young's modulus\n",
    "mask = np.ones_like(strain, dtype=bool)\n",
    "for numiter in range(20):\n",
    "    # perform a linear fit with the current set of points\n",
    "    func = objective_generator(lm, strain[mask], stress[mask])\n",
    "    x0 = np.ones(1)\n",
    "    x, covx, infodict, mesg, ier = leastsq(func, x0, full_output=True)\n",
    "    # the current modulus\n",
    "    modulus = x[0]\n",
    "    print('Iteration {}: ({} pts, {} MPa)'.format(numiter+1, np.sum(mask), modulus))\n",
    "    # use residual strain to figure out the appropriate strain\n",
    "    eps = residual_strain(modulus, strain, stress)\n",
    "    mask = true_to_final(eps < 0)\n",
    "    # plot the residual stress\n",
    "    m = ~(np.isinf(eps) | np.isnan(eps))\n",
    "    plt.plot(eps[m], stress[m], 'o', label='Iteration {}'.format(numiter+1))\n",
    "\n",
    "plt.xlabel('residual strain (mm/mm)')\n",
    "plt.ylabel('stress (MPa)')\n",
    "plt.title('Evolution of Residual Strain')\n",
    "plt.legend()\n",
    "\n",
    "# show a narrower view of the final residual stress values\n",
    "plt.figure(figsize=(16,9))\n",
    "plt.plot(eps[m], stress[m], 'o-')\n",
    "plt.axvline(color='k', ls='-')\n",
    "xlo = 1.2*np.min(eps[m])\n",
    "xhi = xlo + 2.4*np.abs(xlo)\n",
    "ylo, yhi = 0, 1.2*np.max(stress[eps < xhi])\n",
    "plt.xlim(xlo, xhi)\n",
    "plt.ylim(ylo, yhi)\n",
    "plt.xlabel('residual strain (mm/mm)')\n",
    "plt.ylabel('stress (MPa)')\n",
    "plt.title('Final residual strain')\n",
    "\n",
    "# plot the stress strain curve, best fit line for the Young's modulus\n",
    "# and the offset line for determining the yield point.\n",
    "plt.figure(figsize=(16,9))\n",
    "plt.plot(strain, stress)\n",
    "m = modulus*strain < np.max(stress)\n",
    "plt.plot(strain[m], modulus*strain[m])\n",
    "plt.plot(strain[m]+0.002, modulus*strain[m])\n",
    "plt.xlim(0, 0.40)\n",
    "plt.xlabel('strain (mm/mm)')\n",
    "plt.ylabel('stress (MPa)')\n",
    "\n",
    "\n",
    "# add yield point\n",
    "below_yield = stress > modulus*(strain - 0.002)\n",
    "above_yield = ~below_yield\n",
    "yield_stress = (stress[below_yield][-1] + stress[above_yield][0])/2.\n",
    "yield_strain = (strain[below_yield][-1] + strain[above_yield][0])/2.\n",
    "plt.plot([yield_strain], [yield_stress], 'ko')\n",
    "_ = plt.text(1.01*yield_strain, 0.99*yield_stress,\n",
    "         r'{:.0f} $\\mu\\epsilon$, {:.3f} MPa'.format(yield_strain*1000, yield_stress),\n",
    "         ha='left', va='top', fontsize='large')\n",
    "plt.savefig('Engineering Stress Strain curve')"
   ]
  },
  {
   "cell_type": "markdown",
   "metadata": {},
   "source": [
    "# Report the statistics of the calculation\n",
    "\n",
    "This depends on the following variables from previous cells:\n",
    "\n",
    "strain: The strain, in mm/mm.\n",
    "\n",
    "stress: The stress, in MPa.\n",
    "\n",
    "modulus: The current value of the Young's modulus, in MPa.\n",
    "\n",
    "mask: The boolean mask selecting values used in the linear fit of the current Young's modulus.\n",
    "\n",
    "covx: Estimate of the Jacobian around the solution. This value times the variance of the residuals is the covariance matrix.\n"
   ]
  },
  {
   "cell_type": "code",
   "execution_count": 22,
   "metadata": {
    "collapsed": false
   },
   "outputs": [
    {
     "name": "stdout",
     "output_type": "stream",
     "text": [
      "\n",
      "Modulus: 119.819 GPa\n",
      "Standard deviation: 1.951 GPa\n",
      "R-squared: 0.974\n",
      "COV: 3.679%\n",
      "\n",
      "<type 'dict'>\n"
     ]
    }
   ],
   "source": [
    "# Note: `mask` is the last mask used to select points for fitting the modulus\n",
    "statistics = {'modulus' : modulus/1000.}\n",
    "# see https://en.wikipedia.org/wiki/Coefficient_of_determination\n",
    "SST = np.sum((stress[mask] - np.mean(stress[mask]))**2) # total sum of squares\n",
    "SSR = np.sum((stress[mask] - modulus*strain[mask])**2) # sum of the square of the residuals\n",
    "statistics['Rsq'] = 1. - SSR/SST\n",
    "statistics['COV'] = 100*np.sqrt((1./statistics['Rsq'] - 1.)/(np.sum(mask) - 2))\n",
    "# we can calculate the the covariance matrix from the residual variance\n",
    "residual_variance = SSR/np.sum(mask)\n",
    "covariance = covx[0,0]*residual_variance\n",
    "statistics['std'] = np.sqrt(covariance)/1000.\n",
    "\n",
    "print(\"\"\"\n",
    "Modulus: {modulus:.3f} GPa\n",
    "Standard deviation: {std:.3f} GPa\n",
    "R-squared: {Rsq:.3f}\n",
    "COV: {COV:.3f}%\n",
    "\"\"\".format(**statistics))\n",
    "\n",
    "\n",
    "\n",
    "    "
   ]
  },
  {
   "cell_type": "code",
   "execution_count": null,
   "metadata": {
    "collapsed": true
   },
   "outputs": [],
   "source": []
  }
 ],
 "metadata": {
  "kernelspec": {
   "display_name": "Python 2",
   "language": "python",
   "name": "python2"
  },
  "language_info": {
   "codemirror_mode": {
    "name": "ipython",
    "version": 2
   },
   "file_extension": ".py",
   "mimetype": "text/x-python",
   "name": "python",
   "nbconvert_exporter": "python",
   "pygments_lexer": "ipython2",
   "version": "2.7.13"
  }
 },
 "nbformat": 4,
 "nbformat_minor": 0
}
