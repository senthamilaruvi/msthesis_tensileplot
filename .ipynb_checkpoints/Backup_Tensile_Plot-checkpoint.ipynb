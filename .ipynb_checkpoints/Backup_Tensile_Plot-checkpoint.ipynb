{
 "cells": [
  {
   "cell_type": "code",
   "execution_count": 49,
   "metadata": {
    "collapsed": false
   },
   "outputs": [],
   "source": [
    "# Getting the input data\n",
    "import os\n",
    "import pandas as pd\n",
    "import numpy as np\n",
    "import matplotlib.pyplot as plt \n",
    "from scipy import stats \n",
    "import shutil\n"
   ]
  },
  {
   "cell_type": "code",
   "execution_count": 50,
   "metadata": {
    "collapsed": false
   },
   "outputs": [
    {
     "name": "stdout",
     "output_type": "stream",
     "text": [
      "Input_length:\n",
      "459\n",
      "   index      Time     Force      Disp\n",
      "0      3  0.486328  1.800526  0.000203\n",
      "1      4  0.585938  2.767472 -0.000247\n",
      "2      5  0.685547  4.214654  0.000152\n",
      "3      6  0.785156  5.760836  0.000513\n",
      "4      7  0.884766  7.097516  0.000235\n"
     ]
    }
   ],
   "source": [
    "os.chdir('E:\\Python\\Tensile_Plot\\Data\\A07')\n",
    "\n",
    "# Reading all the data in csv format to the data frame\n",
    "\n",
    "output = pd.read_csv(\"output.csv\",skiprows = 3,names = ['Time','Force','Disp']).dropna(axis = 0)\n",
    "eystrain = pd.read_csv(\"ey_strain.csv\",skiprows = 3,names =['Stage','ey_strain']).dropna(axis =0)\n",
    "mises = pd.read_csv(\"mises.csv\",skiprows = 3, names =['Stage','mises_strain']).dropna(axis = 0)\n",
    "Dimensions = pd.read_table(\"Dimensions.txt\")\n",
    "\n",
    "print('Input_length:')\n",
    "print(len(eystrain))\n",
    "print(output.head(5))"
   ]
  },
  {
   "cell_type": "code",
   "execution_count": 51,
   "metadata": {
    "collapsed": false
   },
   "outputs": [
    {
     "name": "stdout",
     "output_type": "stream",
     "text": [
      "<type 'int'>\n",
      "0    1.800526\n",
      "1    2.767472\n",
      "2    4.214654\n",
      "Name: Force, dtype: float64\n",
      "       time    stress  stage    strain     mises\n",
      "0  0.486328  0.138502    0.0  0.000000  0.000000\n",
      "1  0.585938  0.212882    1.0  0.000024  0.000190\n",
      "2  0.685547  0.324204    2.0  0.000274  0.000431\n",
      "3  0.785156  0.443141    3.0  0.000500  0.000574\n",
      "4  0.884766  0.545963    4.0  0.000772  0.000834\n",
      "5  0.984375  0.712200    5.0  0.001064  0.001095\n",
      "6  1.083984  0.774911    6.0  0.001359  0.001390\n",
      "7  1.183594  0.904787    7.0  0.001546  0.001594\n",
      "8  1.283203  1.163799    8.0  0.001720  0.001753\n",
      "9  1.382812  1.444331    9.0  0.001929  0.001970\n"
     ]
    }
   ],
   "source": [
    "#Calculating Stress from the output data \n",
    "Area = int(Dimensions[\"Width\"]*Dimensions[\"Thickness\"])\n",
    "print type(Area)\n",
    "\n",
    "print(output['Force'].head(3))\n",
    "# Changing strain from percentage to mm/mm format\n",
    "eystrain[\"ey_strain\"] = eystrain[\"ey_strain\"]/100\n",
    "mises[\"mises_strain\"] = mises[\"mises_strain\"]/100\n",
    "\n",
    "# Calculating Stress from force \n",
    "output[\"stress\"] = output[\"Force\"]/Area \n",
    "\n",
    "# Assembling all the data to a data frame\n",
    "data = pd.concat(\n",
    "    [output['Time'], output['stress'], eystrain['Stage'], eystrain['ey_strain'], mises['mises_strain']], \n",
    "    axis = 1, keys= ['time','stress','stage','strain','mises'])\n",
    "\n",
    "print(data.head(10))\n"
   ]
  },
  {
   "cell_type": "code",
   "execution_count": 52,
   "metadata": {
    "collapsed": false
   },
   "outputs": [
    {
     "name": "stdout",
     "output_type": "stream",
     "text": [
      "459\n",
      "459\n"
     ]
    }
   ],
   "source": [
    "#Filtering stress\n",
    "\n",
    "#Filtering out the Stress data corresponding to each Strain Stage\n",
    "\n",
    "Stress = []\n",
    "time = np.array(data['time'])\n",
    "stage = np.array(data['stage'].dropna())\n",
    "time_sorted = []\n",
    "\n",
    "# Finding closest time value of stress corresponding to each strain stage data\n",
    "for i in range(0, len(stage)):\n",
    "    time_sorted.append(min(range(len(time)), key=lambda j: abs(time[j]-stage[i])))\n",
    "\n",
    "for i in range (0, len(time_sorted)):\n",
    "        Stress.append(data['stress'][time_sorted[i]]) \n",
    "\n",
    "Strain = np.array(data[\"strain\"].dropna())\n",
    "Mises = np.array(data[\"mises\"].dropna())\n",
    "\n",
    "print(len(Strain))\n",
    "print(len(Stress))\n",
    "\n"
   ]
  },
  {
   "cell_type": "code",
   "execution_count": 53,
   "metadata": {
    "collapsed": false
   },
   "outputs": [
    {
     "name": "stdout",
     "output_type": "stream",
     "text": [
      "done\n"
     ]
    }
   ],
   "source": [
    "# Function to calculate Mechanical Properties\n",
    "\n",
    "def Mechanical_Properties(stress, strain):\n",
    "    \n",
    "    #Finding the data point until which we fit a straight line to find Young's Modulus \n",
    "    ymodulus = []\n",
    "    \n",
    "    for i in range(0,len(strain)-10):\n",
    "        ymodulus.append((stress[i+10] - stress[i])/(strain[i+10] - strain[i]))\n",
    "        m = np.mean(ymodulus)\n",
    "        s = np.std(ymodulus)\n",
    "        p = (s/m)*100\n",
    "        if np.floor(p) == 20:\n",
    "            global Split_Point\n",
    "            Split_Point = strain[i]  \n",
    "            break\n",
    "\n",
    "    #Calculating Young's Modulus from raw data ey_strain\n",
    "\n",
    "    #Filtering out the linear potion of the ey_strain and stress data to find the slope\n",
    "\n",
    "    linear_strain = []\n",
    "    linear_stress = []\n",
    "\n",
    "    for i in range(0, len(strain)):\n",
    "        if strain[i] < Split_Point:\n",
    "            linear_strain.append(strain[i])\n",
    "            linear_stress.append(stress[i])\n",
    "\n",
    "    # Filtering out the linear potion of the ey_strain and stress data to fit a polynomial\n",
    "\n",
    "    nonlinear_strain =[]\n",
    "    nonlinear_stress =[]\n",
    "\n",
    "    for i in range(0,len(strain)):\n",
    "        if strain[i] > Split_Point:\n",
    "            nonlinear_strain.append(strain[i])\n",
    "            nonlinear_stress.append(stress[i])\n",
    "\n",
    "    E, c, R , p, std_err = stats.linregress(linear_strain,linear_stress)\n",
    "    \n",
    "    #Calculating R^2 value\n",
    "    r_squared = R**2\n",
    "    r_squared = round(r_squared,5)\n",
    "    \n",
    "    #Calculating coefficient of variation\n",
    "    K = len(linear_stress)\n",
    "    V = 100*np.sqrt(((1/r_squared)-1)/(K-2))\n",
    "    \n",
    "    \n",
    "    #Fitting a polynomial curve to the nonlinear portion of stress-strain curve\n",
    "    p = np.polyfit(nonlinear_strain,nonlinear_stress,20)\n",
    "    p1d = np.poly1d(p)\n",
    "    \n",
    "    \n",
    "    #Finding Ultimate Stress and Strain\n",
    "    ucs = np.amax(stress)\n",
    "    ucstrain = np.amax(strain)\n",
    "\n",
    "    # To find yield stress from initially filtered data of Engineering strain vs Engineering stress\n",
    "    # This works by finding intersection point of the straight line and polynomial\n",
    "\n",
    "    x = np.linspace(0.002,0.05,100000)\n",
    "\n",
    "    for i in range(0,len(x)):\n",
    "        if (E*(x[i] -0.002)) > (p1d(x[i])):\n",
    "            yieldstrain = x[i]\n",
    "            yieldstress = p1d(x[i])\n",
    "            break \n",
    "\n",
    "    #Caculating ductility from filtered data ey_strain\n",
    "        \n",
    "    ductility = (ucstrain - yieldstrain)*100\n",
    "    return(yieldstress,ucs,E,ductility,r_squared,K,V,ymodulus)\n",
    "\n",
    "print(\"done\")\n"
   ]
  },
  {
   "cell_type": "code",
   "execution_count": 54,
   "metadata": {
    "collapsed": false
   },
   "outputs": [
    {
     "name": "stderr",
     "output_type": "stream",
     "text": [
      "C:\\Users\\senth\\Anaconda2\\lib\\site-packages\\numpy\\lib\\polynomial.py:595: RankWarning: Polyfit may be poorly conditioned\n",
      "  warnings.warn(msg, RankWarning)\n",
      "C:\\Users\\senth\\Anaconda2\\lib\\site-packages\\numpy\\lib\\polynomial.py:595: RankWarning: Polyfit may be poorly conditioned\n",
      "  warnings.warn(msg, RankWarning)\n"
     ]
    },
    {
     "name": "stdout",
     "output_type": "stream",
     "text": [
      "  Result Type  Yield Strength(Mpa)  Ultimate Strength(Mpa)  \\\n",
      "0    Uniaxial           573.106419              836.833233   \n",
      "1       Mises           560.409811              836.833233   \n",
      "\n",
      "   Youngs Modulus(Gpa)  Ductility      R^2  Data Points    CoV(%)  \n",
      "0         85900.308650  22.169862  0.99093           31  1.776573  \n",
      "1         89038.832849  22.210842  0.99001           27  2.009060  \n"
     ]
    }
   ],
   "source": [
    "#Mechanical properties in different processing conditions\n",
    "\n",
    "[y,ucs,E,d,R2,K,V,ymodulus] = Mechanical_Properties(Stress,Strain)\n",
    "\n",
    "\n",
    "[y1,ucs1,E1,d1,R2_1,K1,V1,ymodulus1] = Mechanical_Properties(Stress,Mises)\n",
    "\n",
    "dir = 'Results'\n",
    "if not os.path.exists(dir):\n",
    "    os.makedirs(dir)\n",
    "else:\n",
    "    shutil.rmtree(dir)           #removes all the subdirectories!\n",
    "    os.makedirs(dir)\n",
    "\n",
    "os.chdir('Results')\n",
    "\n",
    "\n",
    "\n",
    "Data = pd.DataFrame({'Strain':Strain,'Mises':Mises,'Stress':Stress},columns = ['Strain','Mises','Stress'])\n",
    "\n",
    "Results = pd.DataFrame({'Result Type':['Uniaxial','Mises'],'Yield Strength(Mpa)':[y,y1],'Ultimate Strength(Mpa)':[ucs,ucs1],\n",
    "                        'Youngs Modulus(Gpa)':[E,E1],'Ductility':[d,d1],'R^2':[R2,R2_1],'Data Points':[K,K1],'CoV(%)':[V,V1]},\n",
    "                        columns = ['Result Type','Yield Strength(Mpa)','Ultimate Strength(Mpa)','Youngs Modulus(Gpa)',\n",
    "                                   'Ductility','R^2','Data Points','CoV(%)'])\n",
    "\n",
    "Results.to_csv('Results.csv')\n",
    "Data.to_csv('Data.csv')\n",
    "\n",
    "print(Results)\n"
   ]
  },
  {
   "cell_type": "code",
   "execution_count": 55,
   "metadata": {
    "collapsed": false
   },
   "outputs": [],
   "source": [
    "# Plotting \n",
    "\n",
    "# To draw straight line in graph\n",
    "\n",
    "b = np.linspace(0,0.01,1000)\n",
    "g = np.linspace(0.002,0.015,2000)\n",
    "\n",
    "a = E*b\n",
    "c = E*(g - 0.002)\n",
    "\n",
    "a1 = E1*b\n",
    "c1 = E1*(g - 0.002)\n",
    "\n",
    "#plt.clf()\n",
    "\n",
    "plt.figure(figsize = (20,15))\n",
    "plt.rc('xtick', labelsize=20) \n",
    "plt.rc('ytick', labelsize=20)\n",
    "plt.plot(Strain, Stress, 'k.')\n",
    "plt.plot(b,a,'-')\n",
    "plt.plot(g,c,'-')\n",
    "plt.xlabel('Engineering Strain (mm/mm)', fontsize = 20)\n",
    "plt.ylabel('Engineering Stress (Mpa)', fontsize = 20)\n",
    "plt.xlim([0,0.40])\n",
    "plt.ylim([0,1500])\n",
    "plt.savefig('Eng_Strain_Stress.tiff')\n",
    "\n",
    "plt.figure(figsize = (20,15))\n",
    "plt.rc('xtick', labelsize=20) \n",
    "plt.rc('ytick', labelsize=20)\n",
    "plt.plot(Mises, Stress, 'k.')\n",
    "plt.plot(b,a1,'-')\n",
    "plt.plot(g,c1,'-')\n",
    "plt.xlabel('Mises Strain (mm/mm)', fontsize = 20)\n",
    "plt.ylabel('Engineering Stress (Mpa)', fontsize = 20)\n",
    "plt.xlim([0,0.40])\n",
    "plt.ylim([0,1500])\n",
    "plt.savefig('Mises_Strain_Stress_Galvanized.tiff')\n",
    "\n",
    "plt.show()\n"
   ]
  },
  {
   "cell_type": "code",
   "execution_count": 56,
   "metadata": {
    "collapsed": false
   },
   "outputs": [],
   "source": [
    "#os.chdir('..')\n",
    "#os.getcwd()\n",
    "#for d in os.listdir(os.getcwd()):\n",
    "#    os.chdir(d)\n",
    "#    os.mkdir('RREESSUULLTTSS')\n",
    "#    os.chdir('..')"
   ]
  },
  {
   "cell_type": "code",
   "execution_count": 57,
   "metadata": {
    "collapsed": false,
    "scrolled": true
   },
   "outputs": [],
   "source": [
    "#os.chdir('E:\\Python\\Tensile_Plot\\Data')\n",
    "#os.getcwd()"
   ]
  },
  {
   "cell_type": "code",
   "execution_count": 58,
   "metadata": {
    "collapsed": false
   },
   "outputs": [],
   "source": [
    "# ASSUME IN SAME FOLDERS AS SAMPLE FOLDERS (i.e. A09)\n",
    "#samples = glob.glob('A*')\n",
    "\n",
    "#for sample in samples:\n",
    "    # change such that you can list the csv folders for a single sample\n",
    "    \n",
    "    # List csv files\n",
    "    #strain_files = glob.glob(sample+'/*csv')\n",
    "    \n",
    "    \n",
    "    # Call conversion function\n",
    "    #df = read_csv_to_df(strain_files[0], strain_files[1], strain_files[2])\n",
    "    \n",
    "    # Call analysis\n",
    "    #results = analysis_function(df)\n",
    "    \n",
    "    \n",
    "    # Write results\n",
    "    \n",
    "\n"
   ]
  },
  {
   "cell_type": "code",
   "execution_count": 59,
   "metadata": {
    "collapsed": false
   },
   "outputs": [],
   "source": [
    "#     strain = Strain\n",
    "#     stress = Stress\n",
    "#     ymodulus =[]\n",
    "#     for i in range(0,len(strain)-2):\n",
    "#         ymodulus.append((stress[i+2] - stress[i])/(strain[i+2] - strain[i]))\n",
    "#         m = np.mean(ymodulus)\n",
    "#         s = np.std(ymodulus)\n",
    "#         p = (s/m)*100\n",
    "#         print p"
   ]
  },
  {
   "cell_type": "code",
   "execution_count": null,
   "metadata": {
    "collapsed": true
   },
   "outputs": [],
   "source": [
    "# import matplotlib.pyplot as plt\n",
    "# ymodulus = []\n",
    "    \n",
    "# for i in range(0,len(strain)-10):\n",
    "#     ymodulus.append((stress[i+10] - stress[i])/(strain[i+10] - strain[i]))\n",
    "#     m = np.mean(ymodulus)\n",
    "#     s = np.std(ymodulus)\n",
    "#     p = (s/m)*100\n",
    "#     if np.floor(p) == 20:\n",
    "#         global Split_Point\n",
    "#         Split_Point = strain[i]  \n",
    "#         break\n",
    "\n",
    "#     #Calculating Young's Modulus from raw data ey_strain\n",
    "\n",
    "#     #Filtering out the linear potion of the ey_strain and stress data to find the slope\n",
    "\n",
    "# lin_strain = []\n",
    "# lin_stress = []\n",
    "\n",
    "# for i in range(0, len(strain)):\n",
    "#     if strain[i] < Split_Point:\n",
    "#         lin_strain.append(strain[i])\n",
    "#         lin_stress.append(stress[i])\n",
    "    \n",
    "# Trial_Modulus = np.polyfit(lin_strain,lin_stress,1)\n",
    "\n",
    "# stre =[]\n",
    "    \n",
    "# for i in range(0,len(strain)):\n",
    "#     if strain[i] <.01:\n",
    "#         if -0.001< (strain[i]- (stress[i]/Trial_Modulus[0])) < 0.001 :\n",
    "#             stre.append(stress[i])\n",
    "#             break_stress = np.max(stre)\n",
    "#             global break_stress\n",
    "# print(break_stress)"
   ]
  }
 ],
 "metadata": {
  "kernelspec": {
   "display_name": "Python 2",
   "language": "python",
   "name": "python2"
  },
  "language_info": {
   "codemirror_mode": {
    "name": "ipython",
    "version": 2
   },
   "file_extension": ".py",
   "mimetype": "text/x-python",
   "name": "python",
   "nbconvert_exporter": "python",
   "pygments_lexer": "ipython2",
   "version": "2.7.13"
  }
 },
 "nbformat": 4,
 "nbformat_minor": 0
}
