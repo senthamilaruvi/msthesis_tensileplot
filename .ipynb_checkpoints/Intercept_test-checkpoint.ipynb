{
 "cells": [
  {
   "cell_type": "code",
   "execution_count": 109,
   "metadata": {
    "collapsed": true
   },
   "outputs": [],
   "source": [
    "import os\n",
    "import numpy as np\n",
    "import pandas as pd\n",
    "import warnings\n",
    "from matplotlib import pyplot as plt\n",
    "from scipy import stats\n",
    "from scipy.optimize import leastsq"
   ]
  },
  {
   "cell_type": "code",
   "execution_count": 110,
   "metadata": {
    "collapsed": false
   },
   "outputs": [
    {
     "name": "stdout",
     "output_type": "stream",
     "text": [
      "Input_length:\n",
      "491\n",
      "       Time       Force      Disp\n",
      "0  0.709961  179.503052  0.009498\n",
      "1  0.809570  185.413025  0.009495\n",
      "2  0.909180  216.907318  0.010934\n",
      "3  1.008789  249.730347  0.012201\n",
      "4  1.108398  351.952087  0.015992\n"
     ]
    }
   ],
   "source": [
    "os.chdir('E:\\Python\\Tensile_Plot\\Data\\A04')\n",
    "\n",
    "# Reading all the data in csv format to the data frame\n",
    "\n",
    "output = pd.read_csv(\"output.csv\",skiprows = 8,names = ['Time','Force','Disp']).dropna(axis = 0)\n",
    "output = output.apply(pd.to_numeric, errors ='coerce')\n",
    "eystrain = pd.read_csv(\"ey_strain.csv\",skiprows = 3,names =['Stage','ey_strain']).dropna(axis =0)\n",
    "eystrain = eystrain.apply(pd.to_numeric, errors='coerce')\n",
    "mises = pd.read_csv(\"mises.csv\",skiprows = 3, names =['Stage','mises_strain']).dropna(axis = 0)\n",
    "mises = mises.apply(pd.to_numeric, errors='coerce')\n",
    "Dimensions = pd.read_table(\"Dimensions.txt\")\n",
    "\n",
    "print('Input_length:')\n",
    "print(len(eystrain))\n",
    "print(output.head(5))"
   ]
  },
  {
   "cell_type": "code",
   "execution_count": 111,
   "metadata": {
    "collapsed": false
   },
   "outputs": [
    {
     "name": "stdout",
     "output_type": "stream",
     "text": [
      "       time     stress  stage    strain     mises\n",
      "0  0.709961  14.958588    0.0  0.000000  0.000000\n",
      "1  0.809570  15.451085    1.0  0.000173  0.000206\n",
      "2  0.909180  18.075610    2.0  0.000296  0.000332\n",
      "3  1.008789  20.810862    3.0  0.000444  0.000483\n",
      "4  1.108398  29.329341    4.0  0.000585  0.000622\n",
      "5  1.208008  29.969411    5.0  0.000743  0.000765\n",
      "6  1.307617  39.333679    6.0  0.001024  0.001047\n",
      "7  1.407227  39.996058    7.0  0.001133  0.001159\n",
      "8  1.506836  47.187093    8.0  0.001222  0.001249\n",
      "9  1.606445  53.891373    9.0  0.001427  0.001452\n"
     ]
    }
   ],
   "source": [
    "#Calculating Stress from the output data \n",
    "Area = int(Dimensions[\"Width\"]*Dimensions[\"Thickness\"])\n",
    "\n",
    "# Changing strain from percentage to mm/mm format\n",
    "eystrain[\"ey_strain\"] = eystrain[\"ey_strain\"]/100\n",
    "mises[\"mises_strain\"] = mises[\"mises_strain\"]/100\n",
    "\n",
    "# Calculating Stress from force \n",
    "output[\"stress\"] = output[\"Force\"]/Area \n",
    "\n",
    "# Assembling all the data to a data frame\n",
    "data = pd.concat(\n",
    "    [output['Time'], output['stress'], eystrain['Stage'], eystrain['ey_strain'], mises['mises_strain']], \n",
    "    axis = 1, keys= ['time','stress','stage','strain','mises'])\n",
    "\n",
    "print(data.head(10))"
   ]
  },
  {
   "cell_type": "code",
   "execution_count": 112,
   "metadata": {
    "collapsed": false
   },
   "outputs": [
    {
     "name": "stdout",
     "output_type": "stream",
     "text": [
      "491\n",
      "491\n",
      "491\n"
     ]
    }
   ],
   "source": [
    "#Filtering out the Stress data corresponding to each Strain Stage\n",
    "\n",
    "#Filtering stress\n",
    "\n",
    "#Filtering out the Stress data corresponding to each Strain Stage\n",
    "\n",
    "stress = []\n",
    "time = np.array(data['time'].dropna())\n",
    "stage = np.array(data['stage'].dropna())\n",
    "time_sorted = []\n",
    "\n",
    "# Finding closest time value of stress corresponding to each strain stage data\n",
    "for i in range(0, len(stage)):\n",
    "    time_sorted.append(min(range(len(time)), key=lambda j: abs(time[j]-stage[i])))\n",
    "\n",
    "for i in range (0, len(time_sorted)):\n",
    "        stress.append(data['stress'][time_sorted[i]]) \n",
    "\n",
    "strain = np.array(data[\"strain\"].dropna())\n",
    "mises = np.array(data[\"mises\"].dropna())\n",
    "stress = np.array(stress)\n",
    "\n",
    "ucs = np.max(stress)\n",
    "ucstrain = np.max(strain)\n",
    "ucmises = np.max(mises)\n",
    "\n",
    "print(len(strain))\n",
    "print(len(stress))\n",
    "print(len(mises))"
   ]
  },
  {
   "cell_type": "code",
   "execution_count": 113,
   "metadata": {
    "collapsed": false
   },
   "outputs": [
    {
     "name": "stdout",
     "output_type": "stream",
     "text": [
      "(95, 36)\n"
     ]
    }
   ],
   "source": [
    "\n",
    "linear_strain = []\n",
    "for i in range(0, len(strain)):\n",
    "    if strain[i] < 0.01:\n",
    "        linear_strain.append(strain[i])\n",
    "k = len(linear_strain)\n",
    "st = []\n",
    "for j in range(1,k-19):\n",
    "    ym = []\n",
    "    for i in range(0, len(linear_strain)-j):\n",
    "            ym.append((stress[i+j]-stress[i])/(strain[i+j]- strain[i]))\n",
    "    st.append(np.std(ym[1:20]))  \n",
    "\n",
    "\n",
    "w = st.index(np.min(st))-1\n",
    "global w \n",
    "\n",
    "print(k,w)"
   ]
  },
  {
   "cell_type": "code",
   "execution_count": 114,
   "metadata": {
    "collapsed": false
   },
   "outputs": [
    {
     "name": "stdout",
     "output_type": "stream",
     "text": [
      "[160033.43414788978, 14.653004672222266, 0.99366, 1.8325208501864099]\n"
     ]
    }
   ],
   "source": [
    "ymodulus = []\n",
    "\n",
    "for i in range(0,len(strain)-w):\n",
    "    ymodulus.append((stress[i+w] - stress[i])/(strain[i+w] - strain[i]))\n",
    "    m = np.mean(ymodulus)\n",
    "    s = np.std(ymodulus)\n",
    "    p = (s/m)*100\n",
    "    if np.floor(p) > 10:\n",
    "        global Split_Point\n",
    "        Split_Point = strain[i]  \n",
    "        break\n",
    "\n",
    "#Calculating Young's Modulus from raw data ey_strain\n",
    "\n",
    "#Filtering out the linear potion of the ey_strain and stress data to find the slope\n",
    "\n",
    "linear_strain = []\n",
    "linear_stress = []\n",
    "strain_deviation = []\n",
    "\n",
    "for i in range(0, len(strain)):\n",
    "    if strain[i] < Split_Point:\n",
    "        linear_strain.append(strain[i])\n",
    "        linear_stress.append(stress[i])\n",
    "\n",
    "\n",
    "E, c, R , p, std_err = stats.linregress(linear_strain,linear_stress)   # Non zero intercept may be required\n",
    "\n",
    "for i in range(0,len(linear_strain)):\n",
    "    strain_deviation.append((linear_strain[i] - linear_stress[i]/E))\n",
    "\n",
    "mean_strain_deviation = np.mean(strain_deviation)\n",
    "\n",
    "#Calculating R^2 value\n",
    "r_squared = R**2\n",
    "r_squared = round(r_squared,5)\n",
    "\n",
    "#Calculating coefficient of variation\n",
    "K = len(linear_stress)\n",
    "V = 100*np.sqrt(((1/r_squared)-1)/(K-2))\n",
    "\n",
    "filtered_stress =[]\n",
    "\n",
    "for i in range(0,len(strain)):\n",
    "        if mean_strain_deviation-0.00005 < (strain[i]- (stress[i]/E)) < mean_strain_deviation + 0.00005 :\n",
    "            filtered_stress.append(stress[i])\n",
    "split_stress = np.max(filtered_stress)\n",
    "\n",
    "x = np.linspace(0,0.01,1000)\n",
    "y = E*x+ c\n",
    "\n",
    "plt.plot(strain,stress,'.')\n",
    "plt.plot(x,y,'r-')\n",
    "\n",
    "plt.xlim(0,0.01)\n",
    "plt.ylim(0,500)\n",
    "plt.show()\n",
    "print([E,c, r_squared, V])"
   ]
  },
  {
   "cell_type": "code",
   "execution_count": 115,
   "metadata": {
    "collapsed": false
   },
   "outputs": [
    {
     "name": "stdout",
     "output_type": "stream",
     "text": [
      "Forced to zero\n",
      "(167252, 0.98973, 2.27778)\n",
      "Not Forced to zero\n",
      "(158749.20906051161, 0.9934, 1.82261)\n"
     ]
    }
   ],
   "source": [
    "linear_strain = []\n",
    "linear_stress = []\n",
    "\n",
    "for i in range(0, len(stress)):\n",
    "    if stress[i] < split_stress:\n",
    "        linear_strain.append(strain[i])\n",
    "        linear_stress.append(stress[i])\n",
    "\n",
    "# Filtering out the linear potion of the ey_strain and stress data to fit a polynomial\n",
    "\n",
    "nonlinear_strain =[]\n",
    "nonlinear_stress =[]\n",
    "\n",
    "for i in range(0,len(stress)):\n",
    "    if stress[i] > split_stress:\n",
    "        nonlinear_strain.append(strain[i])\n",
    "        nonlinear_stress.append(stress[i])\n",
    "linear_strain = np.array(linear_strain)\n",
    "linear_stress = np.array(linear_stress)\n",
    "\n",
    "E, c, R , p, std_err = stats.linregress(linear_strain,linear_stress)\n",
    "\n",
    "linear_strain = linear_strain[:,np.newaxis]\n",
    "\n",
    "m,r,s,t = np.linalg.lstsq(linear_strain,linear_stress)\n",
    "\n",
    "\n",
    "\n",
    "x = np.linspace(0,0.01,1000)\n",
    "y = m*x\n",
    "\n",
    "\n",
    "#Calculating R^2 value\n",
    "K = len(linear_stress)\n",
    "r_squared =  1 - r /(K * linear_stress.var())\n",
    "r_squared = round(r_squared,5)\n",
    "\n",
    "r_squared1 = round(R**2,5)\n",
    "\n",
    "#Calculating coefficient of variation\n",
    "V = 100*np.sqrt(((1/r_squared)-1)/(K-2))\n",
    "V = round(V,5)\n",
    "\n",
    "V1 = 100*np.sqrt(((1/r_squared1)-1)/(K-2))\n",
    "V1 = round(V1,5)\n",
    "\n",
    "\n",
    "\n",
    "plt.plot(strain,stress,'.')\n",
    "plt.plot(x,y,'r-')\n",
    "\n",
    "plt.xlim(0,0.01)\n",
    "plt.ylim(0,500)\n",
    "plt.show()\n",
    "print(\"Forced to zero\")\n",
    "print(int(m),float(r_squared),float(V))\n",
    "print(\"Not Forced to zero\")\n",
    "print(E,r_squared1,V1)\n"
   ]
  },
  {
   "cell_type": "code",
   "execution_count": null,
   "metadata": {
    "collapsed": true
   },
   "outputs": [],
   "source": []
  }
 ],
 "metadata": {
  "kernelspec": {
   "display_name": "Python 2",
   "language": "python",
   "name": "python2"
  },
  "language_info": {
   "codemirror_mode": {
    "name": "ipython",
    "version": 2
   },
   "file_extension": ".py",
   "mimetype": "text/x-python",
   "name": "python",
   "nbconvert_exporter": "python",
   "pygments_lexer": "ipython2",
   "version": "2.7.13"
  }
 },
 "nbformat": 4,
 "nbformat_minor": 0
}
