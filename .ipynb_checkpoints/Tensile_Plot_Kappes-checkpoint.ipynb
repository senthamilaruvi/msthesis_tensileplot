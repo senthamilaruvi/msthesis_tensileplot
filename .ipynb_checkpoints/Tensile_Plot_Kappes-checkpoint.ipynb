{
 "cells": [
  {
   "cell_type": "code",
   "execution_count": 15,
   "metadata": {
    "collapsed": false
   },
   "outputs": [],
   "source": [
    "# Getting the input data\n",
    "import os\n",
    "import pandas as pd\n",
    "import numpy as np\n",
    "import warnings\n",
    "import matplotlib.pyplot as plt \n",
    "from scipy import stats\n",
    "from scipy.optimize import leastsq\n"
   ]
  },
  {
   "cell_type": "code",
   "execution_count": 16,
   "metadata": {
    "collapsed": true
   },
   "outputs": [],
   "source": [
    "%matplotlib inline"
   ]
  },
  {
   "cell_type": "code",
   "execution_count": 19,
   "metadata": {
    "collapsed": false
   },
   "outputs": [
    {
     "name": "stdout",
     "output_type": "stream",
     "text": [
      "<function area_tensile at 0x000000000AA32DD8>\n"
     ]
    }
   ],
   "source": [
    "os.chdir('Z:\\inconel\\Tensile\\Raw_Data\\Block_Builds\\Block_2\\Block2-2')\n",
    "\n",
    "# Reading area \n",
    "\n",
    "def area_asbuilt():\n",
    "    Area = pd.read_excel('Area.xlsx',names =['Pixel','Area']).apply(pd.to_numeric,errors='coerce').dropna(axis = 0,subset= ['Pixel','Area'])\n",
    "    area = np.min(Area['Area'][250:800])\n",
    "    print(area)\n",
    "    return(area)\n",
    "\n",
    "def area_machined():\n",
    "    Diameter = pd.read_csv('Diameter.csv',skiprows =1, names =['Dia1','Dia2','Dia3','Avg_dia'])\n",
    "    avg_dia = float(Diameter['Avg_dia'])\n",
    "    area = 0.785*(avg_dia)**2\n",
    "    print(area)\n",
    "    return(area)\n",
    "\n",
    "def area_tensile():\n",
    "    Dimensions = pd.read_table(\"Dimensions.txt\")\n",
    "    Area = int(Dimensions[\"Width\"]*Dimensions[\"Thickness\"])\n",
    "    print(area)\n",
    "    return(area)\n",
    "\n",
    "def area_manual():\n",
    "    area = 2.68\n",
    "    return(area)\n",
    " \n",
    "area = area_tensile()\n"
   ]
  },
  {
   "cell_type": "code",
   "execution_count": null,
   "metadata": {
    "collapsed": false
   },
   "outputs": [],
   "source": [
    "# Reading all the data in csv format to the data frame\n",
    "\n",
    "output = pd.read_csv(\"output.csv\",skiprows = 8,names = ['Time','Force','Disp','Img_time','Dummy_stress'])\n",
    "output = output.apply(pd.to_numeric, errors ='coerce')\n",
    "output = output.dropna(axis = 0, subset =['Time','Force'])\n",
    "\n",
    "eystrain = pd.read_csv(\"ey_strain.csv\",skiprows = 3,names =['Stage','ey_strain'])\n",
    "eystrain = eystrain.apply(pd.to_numeric, errors='coerce')\n",
    "eystrain = eystrain.dropna(axis = 0)\n",
    "\n",
    "# mises = pd.read_csv(\"mises.csv\",skiprows = 3, names =['Stage','mises_strain'])\n",
    "# mises = mises.apply(pd.to_numeric, errors='coerce')\n",
    "# mises = mises.dropna(axis = 0)\n",
    "\n",
    "\n",
    "print('Input_length:')\n",
    "print(len(eystrain))\n",
    "print(output.head(5))"
   ]
  },
  {
   "cell_type": "code",
   "execution_count": null,
   "metadata": {
    "collapsed": false
   },
   "outputs": [],
   "source": [
    "#Calculating Stress from the outpu data\n",
    "\n",
    "# Changing strain from percentage to mm/mm format\n",
    "eystrain[\"ey_strain\"] = eystrain[\"ey_strain\"]*(-1)/100\n",
    "# mises[\"mises_strain\"] = mises[\"mises_strain\"]/100\n",
    "\n",
    "\n",
    "\n",
    "# Calculating Stress from force \n",
    "output[\"stress\"] = output[\"Force\"]/area\n",
    "\n",
    "# Assembling all the data to a data frame\n",
    "data = pd.concat(\n",
    "    [output['Time'], output['stress'], eystrain['Stage'], eystrain['ey_strain']], \n",
    "    axis = 1, keys= ['time','stress','stage','strain','mises'])\n",
    "\n",
    "print(data.head(10))\n"
   ]
  },
  {
   "cell_type": "code",
   "execution_count": null,
   "metadata": {
    "collapsed": false
   },
   "outputs": [],
   "source": [
    "#Filtering stress\n",
    "\n",
    "#Filtering out the Stress data corresponding to each Strain Stage\n",
    "\n",
    "stress = []\n",
    "time = np.array(data['time'].dropna())\n",
    "stage = np.array(data['stage'].dropna())\n",
    "time_sorted = []\n",
    "\n",
    "# Finding closest time value of stress corresponding to each strain stage data\n",
    "for i in range(0, len(stage)):\n",
    "    time_sorted.append(min(range(len(time)), key=lambda j: abs(time[j]-stage[i])))\n",
    "\n",
    "for i in range (0, len(time_sorted)):\n",
    "        stress.append(data['stress'][time_sorted[i]]) \n",
    "\n",
    "strain = np.array(data[\"strain\"].dropna())\n",
    "stress = np.array(stress)\n",
    "\n",
    "ucs = np.max(stress)\n",
    "ucstrain = np.max(strain)\n",
    "\n",
    "\n",
    "print(len(strain))\n",
    "print(len(stress))\n",
    "\n",
    "\n",
    "\n"
   ]
  },
  {
   "cell_type": "markdown",
   "metadata": {},
   "source": [
    "# Residual strain determination of linear region"
   ]
  },
  {
   "cell_type": "code",
   "execution_count": null,
   "metadata": {
    "collapsed": true
   },
   "outputs": [],
   "source": [
    "def objective_generator(func, xobs, yobs):\n",
    "    \"\"\"\n",
    "    Generate a fitting function (`func`) based on a set of observed data (`xobs` and `yobs`).\n",
    "    \n",
    "    IN\n",
    "    --\n",
    "    :func, callable: Function with signature `func(params, xobs)` that accepts a numpy array\n",
    "        of the fitting parameters and observed x-values.\n",
    "    :xobs, numpy.ndarray: observed x-values.\n",
    "    :yobs, numpy.ndarray: observed y-values.\n",
    "    \n",
    "    OUT\n",
    "    ---\n",
    "    `f(params)`, a function of only the fitting parameter values. This is a function that\n",
    "    calculates form, `f(params) = yobs - func(params, xobs)`.\n",
    "    \"\"\"\n",
    "    assert hasattr(func, '__call__'), \\\n",
    "        '`func` must be callable.'\n",
    "    xobs = np.asarray(xobs)\n",
    "    if len(xobs.shape) == 1:\n",
    "        xobs = xobs[:, np.newaxis]\n",
    "    yobs = np.asarray(yobs)\n",
    "    def f(params):\n",
    "        return yobs - func(params, xobs)\n",
    "    return f\n",
    "\n",
    "def lm(params, xobs):\n",
    "    \"\"\"Linear fit, `y = m*x`, enforcing a zero intercept.\"\"\"\n",
    "    # y ~ a0 x0 + a1 x1 + ...\n",
    "    params = np.asarray(params)\n",
    "    return np.dot(params, xobs.T)\n",
    "\n",
    "def lmb(params, xobs):\n",
    "    \"\"\"Linear fit, `y = b + m*x`, for a non-zero intercept.\"\"\"\n",
    "    # y ~ a0 + a1 x0 + a2 x1 + ...\n",
    "    params = np.asarray(params)\n",
    "    return params[0] + np.dot(params[1:], xobs.T)"
   ]
  },
  {
   "cell_type": "code",
   "execution_count": null,
   "metadata": {
    "collapsed": true
   },
   "outputs": [],
   "source": [
    "def residual_strain(modulus, epsilon, sigma):\n",
    "    \"\"\"\n",
    "    Calculates the residual strain from a trial modulus, strain, and stress, respectively.\n",
    "    \"\"\"\n",
    "    return epsilon - sigma/modulus"
   ]
  },
  {
   "cell_type": "code",
   "execution_count": null,
   "metadata": {
    "collapsed": true
   },
   "outputs": [],
   "source": [
    "def true_to_final(mask):\n",
    "    \"\"\"\n",
    "    Transforms a boolean vector (`mask`) that contains mixed T/F values, e.g.\n",
    "    \n",
    "    `mask = [T, T, T, F, T, T, F, F, T, T, T, T, F, F, F, F, F, F, F]`\n",
    "    \n",
    "    into\n",
    "    \n",
    "    `mask = [T, T, T, T, T, T, T, T, T, T, T, T, F, F, F, F, F, F, F]`\n",
    "    \n",
    "    effectively dividing mask in half -- left side True, right side False.\n",
    "    The resultant dividing mask is returned.\n",
    "    \"\"\"\n",
    "    result = np.zeros_like(mask, dtype=bool)\n",
    "    itrue = np.argwhere(mask)\n",
    "    try:\n",
    "        result[:itrue[-1, 0]] = True\n",
    "    except IndexError:\n",
    "        pass\n",
    "    return result"
   ]
  },
  {
   "cell_type": "code",
   "execution_count": null,
   "metadata": {
    "collapsed": true
   },
   "outputs": [],
   "source": [
    "def stats(yactual, ypredict):\n",
    "    SST = np.sum((yactual - np.mean(yactual))**2) # total sum of squares\n",
    "    SSR = np.sum((yactual - ypredict)**2) # sum square residuals\n",
    "    try:\n",
    "        with warnings.catch_warnings():\n",
    "            warnings.simplefilter('error')\n",
    "            Rsq = 1. - SSR/SST\n",
    "            cov = 100*np.sqrt((1./Rsq - 1.)/(len(yactual) - 2))\n",
    "    except:\n",
    "        Rsq = 0.\n",
    "        cov = 100.\n",
    "    return {\n",
    "        'Rsq' : Rsq,\n",
    "        'COV' : cov\n",
    "    }"
   ]
  },
  {
   "cell_type": "code",
   "execution_count": null,
   "metadata": {
    "collapsed": false
   },
   "outputs": [],
   "source": [
    "plt.figure(figsize=(16,9))\n",
    "\n",
    "# iteratively use residual strain to find the points that should be used to\n",
    "# fit the Young's modulus\n",
    "mask = np.ones_like(strain, dtype=bool)\n",
    "best = {\n",
    "    'x' : None,\n",
    "    'COV' : 1e6,\n",
    "    'Rsq' : 0,\n",
    "    'covx' : None,\n",
    "    'modulus' : None,\n",
    "    'eps' : None,\n",
    "    'mask' : None,\n",
    "    'm' : None\n",
    "}\n",
    "for numiter in range(20):\n",
    "    # perform a linear fit with the current set of points\n",
    "    func = objective_generator(lm, strain[mask], stress[mask])\n",
    "    x0 = np.ones(1)\n",
    "    x, covx, infodict, mesg, ier = leastsq(func, x0, full_output=True)\n",
    "    # the current modulus\n",
    "    modulus = x[0]\n",
    "    # use residual strain to figure out the appropriate strain\n",
    "    eps = residual_strain(modulus, strain, stress)\n",
    "    mask = true_to_final(eps < 0.00005)\n",
    "    # plot the residual stress\n",
    "    m = ~(np.isinf(eps) | np.isnan(eps))\n",
    "    plt.plot(eps[m], stress[m], 'o', label='Iteration {}'.format(numiter+1))\n",
    "    # statistics of the fit\n",
    "    statistics = stats(stress[mask], lm(x, strain[mask, np.newaxis]))\n",
    "    # status output\n",
    "    print('Iteration {}: ({} pts, {} MPa, Rsq={:.4f}, COV={:.3f}%)'.format(\n",
    "            numiter+1, np.sum(mask), modulus,\n",
    "            statistics['Rsq'], statistics['COV']))\n",
    "    # update the best\n",
    "    if statistics['COV'] < best['COV']:\n",
    "        print('^- New best -^')\n",
    "        best['x'] = x\n",
    "        best['covx'] = covx\n",
    "        best['COV'] = statistics['COV']\n",
    "        best['Rsq'] = statistics['Rsq']\n",
    "        best['modulus'] = modulus\n",
    "        best['eps'] = eps\n",
    "        best['mask'] = mask\n",
    "        best['m'] = m\n",
    "#print (best['covx'], best['x'], best['modulus'])\n",
    "x = best['x']\n",
    "covx = best['covx']\n",
    "modulus = best['modulus']\n",
    "eps = best['eps']\n",
    "mask = best['mask']\n",
    "m = best['m']\n",
    "        \n",
    "plt.xlabel('residual strain (mm/mm)')\n",
    "plt.ylabel('stress (MPa)')\n",
    "plt.title('Evolution of Residual Strain')\n",
    "plt.legend()\n",
    "\n",
    "# show a narrower view of the final residual stress values\n",
    "plt.figure(figsize=(16,9))\n",
    "plt.plot(eps[m], stress[m], 'o-')\n",
    "plt.axvline(color='k', ls='-')\n",
    "xlo = 1.2*np.min(eps[m])\n",
    "xhi = xlo + 2.4*np.abs(xlo)\n",
    "ylo, yhi = 0, 1.2*np.max(stress[eps < xhi])\n",
    "plt.xlim(xlo, xhi)\n",
    "plt.ylim(ylo, yhi)\n",
    "plt.xlabel('residual strain (mm/mm)')\n",
    "plt.ylabel('stress (MPa)')\n",
    "plt.title('Final residual strain')\n",
    "\n",
    "# plot the stress strain curve, best fit line for the Young's modulus\n",
    "# and the offset line for determining the yield point.\n",
    "plt.figure(figsize=(16,9))\n",
    "plt.plot(strain, stress, 'b+')\n",
    "m = modulus*strain < np.max(stress)\n",
    "plt.plot(strain[m], modulus*strain[m])\n",
    "plt.plot(strain[m]+0.002, modulus*strain[m])\n",
    "plt.xlim(0, 0.02)\n",
    "plt.xlabel('strain (mm/mm)')\n",
    "plt.ylabel('stress (MPa)')\n",
    "# add yield point\n",
    "below_yield = stress > modulus*(strain - 0.002)\n",
    "above_yield = ~below_yield\n",
    "yield_stress = (stress[below_yield][-1] + stress[above_yield][0])/2.\n",
    "yield_strain = (strain[below_yield][-1] + strain[above_yield][0])/2.\n",
    "plt.plot([yield_strain], [yield_stress], 'ko')\n",
    "_ = plt.text(1.01*yield_strain, 0.99*yield_stress,\n",
    "         r'{:.0f} $\\mu\\epsilon$, {:.3f} MPa'.format(yield_strain*1000, yield_stress),\n",
    "         ha='left', va='top', fontsize='large')\n",
    "Estress = modulus*strain[m][-1]\n",
    "Estrain = strain[m][-1] + 0.002\n",
    "_ = plt.text(1.01*Estrain, 0.99*Estress,\n",
    "         r'{:.3f} GPa'.format(modulus/1000.),\n",
    "         ha='left', va='top', fontsize='large')"
   ]
  }
 ],
 "metadata": {
  "kernelspec": {
   "display_name": "Python 2",
   "language": "python",
   "name": "python2"
  },
  "language_info": {
   "codemirror_mode": {
    "name": "ipython",
    "version": 2
   },
   "file_extension": ".py",
   "mimetype": "text/x-python",
   "name": "python",
   "nbconvert_exporter": "python",
   "pygments_lexer": "ipython2",
   "version": "2.7.13"
  }
 },
 "nbformat": 4,
 "nbformat_minor": 0
}
