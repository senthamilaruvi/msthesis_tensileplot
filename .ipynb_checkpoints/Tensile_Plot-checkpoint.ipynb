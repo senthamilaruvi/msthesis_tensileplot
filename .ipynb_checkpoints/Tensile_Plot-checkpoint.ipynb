{
 "cells": [
  {
   "cell_type": "code",
   "execution_count": 229,
   "metadata": {
    "collapsed": false
   },
   "outputs": [],
   "source": [
    "# Getting the input data\n",
    "import os\n",
    "import pandas as pd\n",
    "import numpy as np\n",
    "import matplotlib.pyplot as plt \n",
    "from scipy import stats\n",
    "from scipy.optimize import leastsq\n",
    "import shutil\n"
   ]
  },
  {
   "cell_type": "code",
   "execution_count": 230,
   "metadata": {
    "collapsed": false
   },
   "outputs": [
    {
     "name": "stdout",
     "output_type": "stream",
     "text": [
      "Input_length:\n",
      "467\n",
      "       Time      Force      Disp\n",
      "0  0.168945  -1.459895  0.000462\n",
      "1  0.268555   1.375191  0.000226\n",
      "2  0.368164   1.154235  0.000411\n",
      "3  0.467773   4.263781  0.001040\n",
      "4  0.567383  10.400917  0.001204\n"
     ]
    }
   ],
   "source": [
    "os.chdir('E:\\Python\\Tensile_Plot\\Data\\F03')\n",
    "\n",
    "# Reading all the data in csv format to the data frame\n",
    "\n",
    "output = pd.read_csv(\"output.csv\",skiprows = 8, names = ['Time','Force','Disp']).dropna(axis = 0)\n",
    "output = output.apply(pd.to_numeric, errors ='coerce')\n",
    "eystrain = pd.read_csv(\"ey_strain.csv\",skiprows = 3, names =['Stage','ey_strain']).dropna(axis =0)\n",
    "eystrain = eystrain.apply(pd.to_numeric, errors='coerce')\n",
    "mises = pd.read_csv(\"mises.csv\",skiprows = 3, names =['Stage','mises_strain']).dropna(axis = 0)\n",
    "mises = mises.apply(pd.to_numeric, errors='coerce')\n",
    "Dimensions = pd.read_table(\"Dimensions.txt\")\n",
    "\n",
    "print('Input_length:')\n",
    "print(len(eystrain))\n",
    "print(output.head(5))"
   ]
  },
  {
   "cell_type": "code",
   "execution_count": 231,
   "metadata": {
    "collapsed": false
   },
   "outputs": [
    {
     "name": "stdout",
     "output_type": "stream",
     "text": [
      "   Stage  mises_strain\n",
      "0    0.0      0.000000\n",
      "1    1.0      0.028647\n",
      "2    2.0      0.050322\n",
      "3    3.0      0.068350\n",
      "4    4.0      0.082024\n",
      "       time     stress  stage    strain     mises\n",
      "0  0.168945  -0.145989    0.0  0.000000  0.000000\n",
      "1  0.268555   0.137519    1.0  0.000214  0.000286\n",
      "2  0.368164   0.115423    2.0  0.000399  0.000503\n",
      "3  0.467773   0.426378    3.0  0.000610  0.000684\n",
      "4  0.567383   1.040092    4.0  0.000757  0.000820\n",
      "5  0.666992   1.095329    5.0  0.000994  0.001045\n",
      "6  0.766602   2.328190    6.0  0.001243  0.001268\n",
      "7  0.866211  11.274684    7.0  0.001463  0.001490\n",
      "8  0.965820  27.775525    8.0  0.001757  0.001784\n",
      "9  1.065430  34.056238    9.0  0.001888  0.001907\n"
     ]
    }
   ],
   "source": [
    "#Calculating Stress from the output data \n",
    "Area = int(Dimensions[\"Width\"]*Dimensions[\"Thickness\"])\n",
    "print(mises.head(5))\n",
    "\n",
    "# Changing strain from percentage to mm/mm format\n",
    "eystrain[\"ey_strain\"] = eystrain[\"ey_strain\"]/100\n",
    "mises[\"mises_strain\"] = mises[\"mises_strain\"]/100\n",
    "\n",
    "\n",
    "\n",
    "# Calculating Stress from force \n",
    "output[\"stress\"] = output[\"Force\"]/Area \n",
    "\n",
    "# Assembling all the data to a data frame\n",
    "data = pd.concat(\n",
    "    [output['Time'], output['stress'], eystrain['Stage'], eystrain['ey_strain'], mises['mises_strain']], \n",
    "    axis = 1, keys= ['time','stress','stage','strain','mises'])\n",
    "\n",
    "print(data.head(10))\n"
   ]
  },
  {
   "cell_type": "code",
   "execution_count": 232,
   "metadata": {
    "collapsed": false
   },
   "outputs": [
    {
     "name": "stdout",
     "output_type": "stream",
     "text": [
      "467\n",
      "467\n",
      "467\n"
     ]
    }
   ],
   "source": [
    "#Filtering stress\n",
    "\n",
    "#Filtering out the Stress data corresponding to each Strain Stage\n",
    "\n",
    "stress = []\n",
    "time = np.array(data['time'].dropna())\n",
    "stage = np.array(data['stage'].dropna())\n",
    "time_sorted = []\n",
    "\n",
    "# Finding closest time value of stress corresponding to each strain stage data\n",
    "for i in range(0, len(stage)):\n",
    "    time_sorted.append(min(range(len(time)), key=lambda j: abs(time[j]-stage[i])))\n",
    "\n",
    "for i in range (0, len(time_sorted)):\n",
    "        stress.append(data['stress'][time_sorted[i]]) \n",
    "\n",
    "strain = np.array(data[\"strain\"].dropna())\n",
    "mises = np.array(data[\"mises\"].dropna())\n",
    "stress = np.array(stress)\n",
    "\n",
    "ucs = np.max(stress)\n",
    "ucstrain = np.max(strain)\n",
    "ucmises = np.max(mises)\n",
    "\n",
    "print(len(strain))\n",
    "print(len(stress))\n",
    "print(len(mises))\n",
    "\n",
    "\n"
   ]
  },
  {
   "cell_type": "markdown",
   "metadata": {},
   "source": [
    "# Residual strain determination of linear region"
   ]
  },
  {
   "cell_type": "code",
   "execution_count": 233,
   "metadata": {
    "collapsed": true
   },
   "outputs": [],
   "source": [
    "def objective_generator(func, xobs, yobs):\n",
    "    \"\"\"\n",
    "    Generate a fitting function (`func`) based on a set of observed data (`xobs` and `yobs`).\n",
    "    \n",
    "    IN\n",
    "    --\n",
    "    :func, callable: Function with signature `func(params, xobs)` that accepts a numpy array\n",
    "        of the fitting parameters and observed x-values.\n",
    "    :xobs, numpy.ndarray: observed x-values.\n",
    "    :yobs, numpy.ndarray: observed y-values.\n",
    "    \n",
    "    OUT\n",
    "    ---\n",
    "    `f(params)`, a function of only the fitting parameter values. This is a function that\n",
    "    calculates form, `f(params) = yobs - func(params, xobs)`.\n",
    "    \"\"\"\n",
    "    assert hasattr(func, '__call__'), \\\n",
    "        '`func` must be callable.'\n",
    "    xobs = np.asarray(xobs)\n",
    "    if len(xobs.shape) == 1:\n",
    "        xobs = xobs[:, np.newaxis]\n",
    "    yobs = np.asarray(yobs)\n",
    "    def f(params):\n",
    "        return yobs - func(params, xobs)\n",
    "    return f\n",
    "\n",
    "def lm(params, xobs):\n",
    "    \"\"\"Linear fit, `y = m*x`, enforcing a zero intercept.\"\"\"\n",
    "    # y ~ a0 x0 + a1 x1 + ...\n",
    "    params = np.asarray(params)\n",
    "    return np.dot(params, xobs.T)\n",
    "\n",
    "def lmb(params, xobs):\n",
    "    \"\"\"Linear fit, `y = b + m*x`, for a non-zero intercept.\"\"\"\n",
    "    # y ~ a0 + a1 x0 + a2 x1 + ...\n",
    "    params = np.asarray(params)\n",
    "    return params[0] + np.dot(params[1:], xobs.T)"
   ]
  },
  {
   "cell_type": "code",
   "execution_count": 234,
   "metadata": {
    "collapsed": true
   },
   "outputs": [],
   "source": [
    "def residual_strain(modulus, epsilon, sigma):\n",
    "    \"\"\"\n",
    "    Calculates the residual strain from a trial modulus, strain, and stress, respectively.\n",
    "    \"\"\"\n",
    "    return epsilon - sigma/modulus"
   ]
  },
  {
   "cell_type": "code",
   "execution_count": 235,
   "metadata": {
    "collapsed": true
   },
   "outputs": [],
   "source": [
    "def true_to_final(mask):\n",
    "    \"\"\"\n",
    "    Transforms a boolean vector (`mask`) that contains mixed T/F values, e.g.\n",
    "    \n",
    "    `mask = [T, T, T, F, T, T, F, F, T, T, T, T, F, F, F, F, F, F, F]`\n",
    "    \n",
    "    into\n",
    "    \n",
    "    `mask = [T, T, T, T, T, T, T, T, T, T, T, T, F, F, F, F, F, F, F]`\n",
    "    \n",
    "    effectively dividing mask in half -- left side True, right side False.\n",
    "    The resultant dividing mask is returned.\n",
    "    \"\"\"\n",
    "    result = np.zeros_like(mask, dtype=bool)\n",
    "    itrue = np.argwhere(mask)\n",
    "    try:\n",
    "        result[:itrue[-1, 0]] = True\n",
    "    except IndexError:\n",
    "        pass\n",
    "    return result"
   ]
  },
  {
   "cell_type": "code",
   "execution_count": 236,
   "metadata": {
    "collapsed": false
   },
   "outputs": [
    {
     "name": "stdout",
     "output_type": "stream",
     "text": [
      "Iteration 1: (467 pts, 5754.12303057 MPa)\n",
      "Iteration 2: (350 pts, 8488.10878628 MPa)\n",
      "Iteration 3: (258 pts, 12549.5338526 MPa)\n",
      "Iteration 4: (192 pts, 19095.3803069 MPa)\n",
      "Iteration 5: (146 pts, 30438.3202244 MPa)\n",
      "Iteration 6: (113 pts, 51231.6922563 MPa)\n",
      "Iteration 7: (90 pts, 80737.2516205 MPa)\n",
      "Iteration 8: (72 pts, 102150.190447 MPa)\n",
      "Iteration 9: (52 pts, 114758.951229 MPa)\n",
      "Iteration 10: (33 pts, 125772.153631 MPa)\n",
      "Iteration 11: (22 pts, 134628.84334 MPa)\n",
      "Iteration 12: (14 pts, 143893.08002 MPa)\n",
      "Iteration 13: (7 pts, 159131.360005 MPa)\n",
      "Iteration 14: (5 pts, 160942.678974 MPa)\n",
      "Iteration 15: (5 pts, 160942.678974 MPa)\n",
      "Iteration 16: (5 pts, 160942.678974 MPa)\n",
      "Iteration 17: (5 pts, 160942.678974 MPa)\n",
      "Iteration 18: (5 pts, 160942.678974 MPa)\n",
      "Iteration 19: (5 pts, 160942.678974 MPa)\n",
      "Iteration 20: (5 pts, 160942.678974 MPa)\n"
     ]
    },
    {
     "data": {
      "text/plain": [
       "<matplotlib.text.Text at 0x16c39240>"
      ]
     },
     "execution_count": 236,
     "metadata": {},
     "output_type": "execute_result"
    }
   ],
   "source": [
    "plt.figure(figsize=(16,9))\n",
    "\n",
    "# iteratively use residual strain to find the points that should be used to\n",
    "# fit the Young's modulus\n",
    "mask = np.ones_like(strain, dtype=bool)\n",
    "for numiter in range(20):\n",
    "    # perform a linear fit with the current set of points\n",
    "    func = objective_generator(lm, strain[mask], stress[mask])\n",
    "    x0 = np.ones(1)\n",
    "    x, covx, infodict, mesg, ier = leastsq(func, x0, full_output=True)\n",
    "    # the current modulus\n",
    "    modulus = x[0]\n",
    "    print('Iteration {}: ({} pts, {} MPa)'.format(numiter+1, np.sum(mask), modulus))\n",
    "    # use residual strain to figure out the appropriate strain\n",
    "    eps = residual_strain(modulus, strain, stress)\n",
    "    mask = true_to_final(eps < 0)\n",
    "    # plot the residual stress\n",
    "    m = ~(np.isinf(eps) | np.isnan(eps))\n",
    "    plt.plot(eps[m], stress[m], 'o', label='Iteration {}'.format(numiter+1))\n",
    "\n",
    "plt.xlabel('residual strain (mm/mm)')\n",
    "plt.ylabel('stress (MPa)')\n",
    "plt.title('Evolution of Residual Strain')\n",
    "plt.legend()\n",
    "\n",
    "# show a narrower view of the final residual stress values\n",
    "plt.figure(figsize=(16,9))\n",
    "plt.plot(eps[m], stress[m], 'o-')\n",
    "plt.axvline(color='k', ls='-')\n",
    "xlo = 1.2*np.min(eps[m])\n",
    "xhi = xlo + 2.4*np.abs(xlo)\n",
    "ylo, yhi = 0, 1.2*np.max(stress[eps < xhi])\n",
    "plt.xlim(xlo, xhi)\n",
    "plt.ylim(ylo, yhi)\n",
    "plt.xlabel('residual strain (mm/mm)')\n",
    "plt.ylabel('stress (MPa)')\n",
    "plt.title('Final residual strain')\n"
   ]
  },
  {
   "cell_type": "code",
   "execution_count": 237,
   "metadata": {
    "collapsed": false
   },
   "outputs": [
    {
     "name": "stdout",
     "output_type": "stream",
     "text": [
      "\n",
      "Modulus: 160.943 GPa\n",
      "Standard deviation: 4.030 GPa\n",
      "R-squared: 0.991\n",
      "COV: 5.499%\n",
      "\n"
     ]
    }
   ],
   "source": [
    "# Note: `mask` is the last mask used to select points for fitting the modulus\n",
    "# see https://en.wikipedia.org/wiki/Coefficient_of_determination\n",
    "statistics = {'modulus' : modulus/1000.}\n",
    "SST = np.sum((stress[mask] - np.mean(stress[mask]))**2) # total sum of squares\n",
    "SSR = np.sum((stress[mask] - modulus*strain[mask])**2) # sum of the square of the residuals\n",
    "statistics['Rsq'] = 1. - SSR/SST\n",
    "statistics['COV'] = 100*np.sqrt((1./statistics['Rsq'] - 1.)/(np.sum(mask) - 2))\n",
    "# we can calculate the the covariance matrix from the residual variance\n",
    "residual_variance = SSR/np.sum(mask)\n",
    "covariance = covx[0,0]*residual_variance\n",
    "statistics['std'] = np.sqrt(covariance)/1000.\n",
    "\n",
    "R2 = statistics['Rsq']\n",
    "COV = statistics['COV']\n",
    "K = len(strain[mask])\n",
    "\n",
    "\n",
    "print(\"\"\"\n",
    "Modulus: {modulus:.3f} GPa\n",
    "Standard deviation: {std:.3f} GPa\n",
    "R-squared: {Rsq:.3f}\n",
    "COV: {COV:.3f}%\n",
    "\"\"\".format(**statistics))"
   ]
  },
  {
   "cell_type": "code",
   "execution_count": 238,
   "metadata": {
    "collapsed": false
   },
   "outputs": [
    {
     "name": "stdout",
     "output_type": "stream",
     "text": [
      "Iteration 1: (467 pts, 5705.20084615 MPa)\n",
      "Iteration 2: (350 pts, 8410.40077898 MPa)\n",
      "Iteration 3: (258 pts, 12432.9931534 MPa)\n",
      "Iteration 4: (192 pts, 18936.5727455 MPa)\n",
      "Iteration 5: (146 pts, 30237.6626321 MPa)\n",
      "Iteration 6: (113 pts, 51024.4844772 MPa)\n",
      "Iteration 7: (90 pts, 80493.1316132 MPa)\n",
      "Iteration 8: (72 pts, 101576.420529 MPa)\n",
      "Iteration 9: (52 pts, 113856.442338 MPa)\n",
      "Iteration 10: (36 pts, 122620.525374 MPa)\n",
      "Iteration 11: (24 pts, 131196.913114 MPa)\n",
      "Iteration 12: (17 pts, 137122.778502 MPa)\n",
      "Iteration 13: (13 pts, 141753.832229 MPa)\n",
      "Iteration 14: (9 pts, 145803.357978 MPa)\n",
      "Iteration 15: (7 pts, 149196.858547 MPa)\n",
      "Iteration 16: (6 pts, 147335.517912 MPa)\n",
      "Iteration 17: (7 pts, 149196.858547 MPa)\n",
      "Iteration 18: (6 pts, 147335.517912 MPa)\n",
      "Iteration 19: (7 pts, 149196.858547 MPa)\n",
      "Iteration 20: (6 pts, 147335.517912 MPa)\n"
     ]
    },
    {
     "data": {
      "text/plain": [
       "<matplotlib.text.Text at 0x16fadeb8>"
      ]
     },
     "execution_count": 238,
     "metadata": {},
     "output_type": "execute_result"
    }
   ],
   "source": [
    "plt.figure(figsize=(16,9))\n",
    "\n",
    "# iteratively use residual strain to find the points that should be used to\n",
    "# fit the Young's modulus\n",
    "mask = np.ones_like(mises, dtype=bool)\n",
    "for numiter in range(20):\n",
    "    # perform a linear fit with the current set of points\n",
    "    func = objective_generator(lm, mises[mask], stress[mask])\n",
    "    x0 = np.ones(1)\n",
    "    x, covx, infodict, mesg, ier = leastsq(func, x0, full_output=True)\n",
    "    # the current modulus\n",
    "    modulus1 = x[0]\n",
    "    print('Iteration {}: ({} pts, {} MPa)'.format(numiter+1, np.sum(mask), modulus1))\n",
    "    # use residual strain to figure out the appropriate strain\n",
    "    eps = residual_strain(modulus1, mises, stress)\n",
    "    mask = true_to_final(eps < 0)\n",
    "    # plot the residual stress\n",
    "    m = ~(np.isinf(eps) | np.isnan(eps))\n",
    "    plt.plot(eps[m], stress[m], 'o', label='Iteration {}'.format(numiter+1))\n",
    "\n",
    "plt.xlabel('residual strain (mm/mm)')\n",
    "plt.ylabel('stress (MPa)')\n",
    "plt.title('Evolution of Residual Strain')\n",
    "plt.legend()\n",
    "\n",
    "# show a narrower view of the final residual stress values\n",
    "plt.figure(figsize=(16,9))\n",
    "plt.plot(eps[m], stress[m], 'o-')\n",
    "plt.axvline(color='k', ls='-')\n",
    "xlo = 1.2*np.min(eps[m])\n",
    "xhi = xlo + 2.4*np.abs(xlo)\n",
    "ylo, yhi = 0, 1.2*np.max(stress[eps < xhi])\n",
    "plt.xlim(xlo, xhi)\n",
    "plt.ylim(ylo, yhi)\n",
    "plt.xlabel('residual strain (mm/mm)')\n",
    "plt.ylabel('stress (MPa)')\n",
    "plt.title('Final residual strain')\n"
   ]
  },
  {
   "cell_type": "markdown",
   "metadata": {},
   "source": [
    "# Report the statistics of the calculation\n",
    "\n",
    "This depends on the following variables from previous cells:\n",
    "\n",
    "strain: The strain, in mm/mm.\n",
    "\n",
    "stress: The stress, in MPa.\n",
    "\n",
    "modulus: The current value of the Young's modulus, in MPa.\n",
    "\n",
    "mask: The boolean mask selecting values used in the linear fit of the current Young's modulus.\n",
    "\n",
    "covx: Estimate of the Jacobian around the solution. This value times the variance of the residuals is the covariance matrix.\n"
   ]
  },
  {
   "cell_type": "code",
   "execution_count": 239,
   "metadata": {
    "collapsed": false
   },
   "outputs": [
    {
     "name": "stdout",
     "output_type": "stream",
     "text": [
      "\n",
      "Modulus1: 147.336 GPa\n",
      "Standard deviation: 5.457 GPa\n",
      "R-squared: 0.982\n",
      "COV: 4.259%\n",
      "\n"
     ]
    }
   ],
   "source": [
    "# Note: `mask` is the last mask used to select points for fitting the modulus\n",
    "\n",
    "# see https://en.wikipedia.org/wiki/Coefficient_of_determination\n",
    "statistics1 = {'modulus1' : modulus1/1000.}\n",
    "SST = np.sum((stress[mask] - np.mean(stress[mask]))**2) # total sum of squares\n",
    "SSR = np.sum((stress[mask] - modulus1*mises[mask])**2) # sum of the square of the residuals\n",
    "statistics1['Rsq1'] = 1. - SSR/SST\n",
    "statistics1['COV1'] = 100*np.sqrt((1./statistics['Rsq'] - 1.)/(np.sum(mask) - 2))\n",
    "# we can calculate the the covariance matrix from the residual variance\n",
    "residual_variance = SSR/np.sum(mask)\n",
    "covariance = covx[0,0]*residual_variance\n",
    "statistics1['std1'] = np.sqrt(covariance)/1000.\n",
    "\n",
    "R2_1 = statistics1['Rsq1']\n",
    "COV1 = statistics1['COV1']\n",
    "K1 = len(mises[mask])\n",
    "\n",
    "print(\"\"\"\n",
    "Modulus1: {modulus1:.3f} GPa\n",
    "Standard deviation: {std1:.3f} GPa\n",
    "R-squared: {Rsq1:.3f}\n",
    "COV: {COV1:.3f}%\n",
    "\"\"\".format(**statistics1))\n"
   ]
  },
  {
   "cell_type": "code",
   "execution_count": 240,
   "metadata": {
    "collapsed": false
   },
   "outputs": [],
   "source": [
    "#Creating Results Folder. If Results folder already exists the new folder would be overwrittern\n",
    "dir = 'Results'\n",
    "if not os.path.exists(dir):\n",
    "    os.makedirs(dir)\n",
    "else:\n",
    "    shutil.rmtree(dir)           #removes all the subdirectories!\n",
    "    os.makedirs(dir)\n",
    "\n",
    "os.chdir('Results')\n"
   ]
  },
  {
   "cell_type": "code",
   "execution_count": 241,
   "metadata": {
    "collapsed": true
   },
   "outputs": [],
   "source": [
    "# plot the stress strain curve, best fit line for the Young's modulus\n",
    "# and the offset line for determining the yield point.\n",
    "plt.figure(figsize=(16,9))\n",
    "plt.plot(strain, stress)\n",
    "m = modulus*strain < np.max(stress)\n",
    "plt.plot(strain[m], modulus*strain[m])\n",
    "plt.plot(strain[m]+0.002, modulus*strain[m])\n",
    "plt.xlim(0, 0.40)\n",
    "plt.xlabel('Engineering Strain (mm/mm)')\n",
    "plt.ylabel('Engineering Stress (MPa)')\n",
    "\n",
    "\n",
    "# add yield point\n",
    "below_yield = stress > modulus*(strain - 0.002)\n",
    "above_yield = ~below_yield\n",
    "yield_stress = (stress[below_yield][-1] + stress[above_yield][0])/2.\n",
    "yield_strain = (strain[below_yield][-1] + strain[above_yield][0])/2.\n",
    "d = (ucstrain - yield_strain)*100\n",
    "plt.plot([yield_strain], [yield_stress], 'ko')\n",
    "_ = plt.text(1.01*yield_strain, 0.99*yield_stress,\n",
    "         r'{:.0f} $\\mu\\epsilon$, {:.3f} MPa'.format(yield_strain*1000, yield_stress),\n",
    "         ha='left', va='top', fontsize='large')\n",
    "plt.savefig('Engineering Stress Strain curve')"
   ]
  },
  {
   "cell_type": "code",
   "execution_count": 242,
   "metadata": {
    "collapsed": true
   },
   "outputs": [],
   "source": [
    "# plot the stress strain curve, best fit line for the Young's modulus\n",
    "# and the offset line for determining the yield point.\n",
    "plt.figure(figsize=(16,9))\n",
    "plt.plot(mises, stress)\n",
    "m = modulus1*mises < np.max(stress)\n",
    "plt.plot(mises[m], modulus1*mises[m])\n",
    "plt.plot(mises[m]+0.002, modulus1*mises[m])\n",
    "plt.xlim(0, 0.40)\n",
    "plt.xlabel('Mises Strain (mm/mm)')\n",
    "plt.ylabel('Engineering Stress (MPa)')\n",
    "\n",
    "\n",
    "# add yield point\n",
    "below_yield = stress > modulus1*(mises - 0.002)\n",
    "above_yield = ~below_yield\n",
    "yield_stress1 = (stress[below_yield][-1] + stress[above_yield][0])/2.\n",
    "yield_strain1 = (mises[below_yield][-1] + mises[above_yield][0])/2.\n",
    "d1 = (ucmises - yield_strain1)*100\n",
    "plt.plot([yield_strain1], [yield_stress1], 'ko')\n",
    "_ = plt.text(1.01*yield_strain, 0.99*yield_stress,\n",
    "         r'{:.0f} $\\mu\\epsilon$, {:.3f} MPa'.format(yield_strain1*1000, yield_stress1),\n",
    "         ha='left', va='top', fontsize='large')\n",
    "plt.savefig('Mises Strain Stress curve')"
   ]
  },
  {
   "cell_type": "code",
   "execution_count": 243,
   "metadata": {
    "collapsed": false
   },
   "outputs": [
    {
     "name": "stdout",
     "output_type": "stream",
     "text": [
      "  Result Type  Yield Strength(Mpa)  Ultimate Strength(Mpa)  \\\n",
      "0    Uniaxial           652.311743             1078.405469   \n",
      "1       Mises           680.436108             1078.405469   \n",
      "\n",
      "   Youngs Modulus(Gpa)  Ductility       R^2       COV  Data Points  \n",
      "0           160.942679  29.047970  0.991010  5.498904            5  \n",
      "1           147.335518  29.219567  0.982045  4.259432            7  \n"
     ]
    }
   ],
   "source": [
    "#Saving Results in Results Folder\n",
    "Data = pd.DataFrame({'Strain':strain,'Mises':mises,'Stress':stress},columns = ['Strain','Mises','Stress'])\n",
    "\n",
    "Results = pd.DataFrame({'Result Type':['Uniaxial','Mises'],\n",
    "                        'Yield Strength(Mpa)':[yield_stress,yield_stress1],\n",
    "                        'Ultimate Strength(Mpa)':[ucs,ucs],\n",
    "                        'Youngs Modulus(Gpa)':[modulus/1000,modulus1/1000],\n",
    "                        'Ductility':[d,d1],\n",
    "                        'R^2':[R2,R2_1], 'COV':[COV,COV1], 'Data Points':[K,K1]},\n",
    "                        columns = ['Result Type','Yield Strength(Mpa)','Ultimate Strength(Mpa)','Youngs Modulus(Gpa)',\n",
    "                                   'Ductility','R^2','COV','Data Points'])\n",
    "\n",
    "Results.to_csv('Results.csv')\n",
    "Data.to_csv('Data.csv')\n",
    "\n",
    "print(Results)"
   ]
  }
 ],
 "metadata": {
  "kernelspec": {
   "display_name": "Python 2",
   "language": "python",
   "name": "python2"
  },
  "language_info": {
   "codemirror_mode": {
    "name": "ipython",
    "version": 2
   },
   "file_extension": ".py",
   "mimetype": "text/x-python",
   "name": "python",
   "nbconvert_exporter": "python",
   "pygments_lexer": "ipython2",
   "version": "2.7.13"
  }
 },
 "nbformat": 4,
 "nbformat_minor": 0
}
